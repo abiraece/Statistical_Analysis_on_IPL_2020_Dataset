{
 "cells": [
  {
   "cell_type": "markdown",
   "metadata": {},
   "source": [
    "# IPL 2020"
   ]
  },
  {
   "cell_type": "code",
   "execution_count": 1,
   "metadata": {},
   "outputs": [],
   "source": [
    "import numpy as np\n",
    "import pandas as pd\n",
    "import matplotlib.pyplot as plt\n",
    "import seaborn as sns\n",
    "\n",
    "import warnings\n",
    "warnings.filterwarnings(\"ignore\")"
   ]
  },
  {
   "cell_type": "code",
   "execution_count": 2,
   "metadata": {},
   "outputs": [],
   "source": [
    "import scipy.stats as stats\n",
    "from scipy.stats import ttest_1samp,ttest_ind,ttest_rel,mannwhitneyu,wilcoxon,shapiro,chisquare,chi2_contingency"
   ]
  },
  {
   "cell_type": "markdown",
   "metadata": {},
   "source": [
    "# Description about Batsman table:\n",
    "POS : Position\n",
    "\n",
    "PLAYER : Name of the Player\n",
    "    \n",
    "Mat : Number of Matches Played\n",
    "    \n",
    "Inns : Inns played\n",
    "    \n",
    "NO : NOT OUT in number of Matches played\n",
    "    \n",
    "Runs : Number of Runs Scored \n",
    "    \n",
    "HS : Highest Score ever made by the batsman.\n",
    "    \n",
    "Avg : Average runs scored throught out the ipl 2020 (670 / 14)\n",
    "\n",
    "BF : Ball Faced (Total number of balls received, including no-balls but not including wides)\n",
    "    \n",
    "SR : Stike Rate ( Avg number of runs scored per 100 ball faced) High stike rate, more effective batsman\n",
    "    \n",
    "100 : Number of 100 scored in each match\n",
    "    \n",
    "50 : Number of 50 scored in each match\n",
    "    \n",
    "4s : Number of 4s in each match\n",
    "    \n",
    "6s : Number of 6s in each match"
   ]
  },
  {
   "cell_type": "code",
   "execution_count": 3,
   "metadata": {},
   "outputs": [],
   "source": [
    "# Loading batsman Dataset:"
   ]
  },
  {
   "cell_type": "code",
   "execution_count": 4,
   "metadata": {},
   "outputs": [
    {
     "data": {
      "text/html": [
       "<div>\n",
       "<style scoped>\n",
       "    .dataframe tbody tr th:only-of-type {\n",
       "        vertical-align: middle;\n",
       "    }\n",
       "\n",
       "    .dataframe tbody tr th {\n",
       "        vertical-align: top;\n",
       "    }\n",
       "\n",
       "    .dataframe thead th {\n",
       "        text-align: right;\n",
       "    }\n",
       "</style>\n",
       "<table border=\"1\" class=\"dataframe\">\n",
       "  <thead>\n",
       "    <tr style=\"text-align: right;\">\n",
       "      <th></th>\n",
       "      <th>POS</th>\n",
       "      <th>PLAYER</th>\n",
       "      <th>Mat</th>\n",
       "      <th>Inns</th>\n",
       "      <th>NO</th>\n",
       "      <th>Runs</th>\n",
       "      <th>HS</th>\n",
       "      <th>Avg</th>\n",
       "      <th>BF</th>\n",
       "      <th>SR</th>\n",
       "      <th>100</th>\n",
       "      <th>50</th>\n",
       "      <th>4s</th>\n",
       "      <th>6s</th>\n",
       "    </tr>\n",
       "  </thead>\n",
       "  <tbody>\n",
       "    <tr>\n",
       "      <th>0</th>\n",
       "      <td>1.0</td>\n",
       "      <td>NaN</td>\n",
       "      <td>14.0</td>\n",
       "      <td>14.0</td>\n",
       "      <td>2.0</td>\n",
       "      <td>670.0</td>\n",
       "      <td>132*</td>\n",
       "      <td>55.83</td>\n",
       "      <td>518.0</td>\n",
       "      <td>129.34</td>\n",
       "      <td>1.0</td>\n",
       "      <td>5.0</td>\n",
       "      <td>58.0</td>\n",
       "      <td>23.0</td>\n",
       "    </tr>\n",
       "    <tr>\n",
       "      <th>1</th>\n",
       "      <td>NaN</td>\n",
       "      <td>KLRahul</td>\n",
       "      <td>NaN</td>\n",
       "      <td>NaN</td>\n",
       "      <td>NaN</td>\n",
       "      <td>NaN</td>\n",
       "      <td>NaN</td>\n",
       "      <td>NaN</td>\n",
       "      <td>NaN</td>\n",
       "      <td>NaN</td>\n",
       "      <td>NaN</td>\n",
       "      <td>NaN</td>\n",
       "      <td>NaN</td>\n",
       "      <td>NaN</td>\n",
       "    </tr>\n",
       "    <tr>\n",
       "      <th>2</th>\n",
       "      <td>2.0</td>\n",
       "      <td>NaN</td>\n",
       "      <td>17.0</td>\n",
       "      <td>17.0</td>\n",
       "      <td>3.0</td>\n",
       "      <td>618.0</td>\n",
       "      <td>106*</td>\n",
       "      <td>44.14</td>\n",
       "      <td>427.0</td>\n",
       "      <td>144.73</td>\n",
       "      <td>2.0</td>\n",
       "      <td>4.0</td>\n",
       "      <td>67.0</td>\n",
       "      <td>12.0</td>\n",
       "    </tr>\n",
       "    <tr>\n",
       "      <th>3</th>\n",
       "      <td>NaN</td>\n",
       "      <td>Shikhar Dhawan</td>\n",
       "      <td>NaN</td>\n",
       "      <td>NaN</td>\n",
       "      <td>NaN</td>\n",
       "      <td>NaN</td>\n",
       "      <td>NaN</td>\n",
       "      <td>NaN</td>\n",
       "      <td>NaN</td>\n",
       "      <td>NaN</td>\n",
       "      <td>NaN</td>\n",
       "      <td>NaN</td>\n",
       "      <td>NaN</td>\n",
       "      <td>NaN</td>\n",
       "    </tr>\n",
       "    <tr>\n",
       "      <th>4</th>\n",
       "      <td>3.0</td>\n",
       "      <td>NaN</td>\n",
       "      <td>16.0</td>\n",
       "      <td>16.0</td>\n",
       "      <td>2.0</td>\n",
       "      <td>548.0</td>\n",
       "      <td>85*</td>\n",
       "      <td>39.14</td>\n",
       "      <td>407.0</td>\n",
       "      <td>134.64</td>\n",
       "      <td>0.0</td>\n",
       "      <td>4.0</td>\n",
       "      <td>52.0</td>\n",
       "      <td>14.0</td>\n",
       "    </tr>\n",
       "  </tbody>\n",
       "</table>\n",
       "</div>"
      ],
      "text/plain": [
       "   POS          PLAYER   Mat  Inns   NO   Runs    HS    Avg     BF      SR  \\\n",
       "0  1.0             NaN  14.0  14.0  2.0  670.0  132*  55.83  518.0  129.34   \n",
       "1  NaN         KLRahul   NaN   NaN  NaN    NaN   NaN    NaN    NaN     NaN   \n",
       "2  2.0             NaN  17.0  17.0  3.0  618.0  106*  44.14  427.0  144.73   \n",
       "3  NaN  Shikhar Dhawan   NaN   NaN  NaN    NaN   NaN    NaN    NaN     NaN   \n",
       "4  3.0             NaN  16.0  16.0  2.0  548.0   85*  39.14  407.0  134.64   \n",
       "\n",
       "   100   50    4s    6s  \n",
       "0  1.0  5.0  58.0  23.0  \n",
       "1  NaN  NaN   NaN   NaN  \n",
       "2  2.0  4.0  67.0  12.0  \n",
       "3  NaN  NaN   NaN   NaN  \n",
       "4  0.0  4.0  52.0  14.0  "
      ]
     },
     "execution_count": 4,
     "metadata": {},
     "output_type": "execute_result"
    }
   ],
   "source": [
    "d = pd.read_excel('batsman-stats.xlsx')\n",
    "d.head()"
   ]
  },
  {
   "cell_type": "code",
   "execution_count": 5,
   "metadata": {},
   "outputs": [],
   "source": [
    "# Finding null value"
   ]
  },
  {
   "cell_type": "code",
   "execution_count": 6,
   "metadata": {},
   "outputs": [
    {
     "data": {
      "text/plain": [
       "POS       0.5\n",
       "PLAYER    0.5\n",
       "Mat       0.5\n",
       "Inns      0.5\n",
       "NO        0.5\n",
       "Runs      0.5\n",
       "HS        0.5\n",
       "Avg       0.5\n",
       "BF        0.5\n",
       "SR        0.5\n",
       "100       0.5\n",
       "50        0.5\n",
       "4s        0.5\n",
       "6s        0.5\n",
       "dtype: float64"
      ]
     },
     "execution_count": 6,
     "metadata": {},
     "output_type": "execute_result"
    }
   ],
   "source": [
    "d.isnull().sum() / len(d)"
   ]
  },
  {
   "cell_type": "code",
   "execution_count": 7,
   "metadata": {},
   "outputs": [],
   "source": [
    "# null vlaue imputation:"
   ]
  },
  {
   "cell_type": "code",
   "execution_count": 8,
   "metadata": {},
   "outputs": [
    {
     "data": {
      "text/html": [
       "<div>\n",
       "<style scoped>\n",
       "    .dataframe tbody tr th:only-of-type {\n",
       "        vertical-align: middle;\n",
       "    }\n",
       "\n",
       "    .dataframe tbody tr th {\n",
       "        vertical-align: top;\n",
       "    }\n",
       "\n",
       "    .dataframe thead th {\n",
       "        text-align: right;\n",
       "    }\n",
       "</style>\n",
       "<table border=\"1\" class=\"dataframe\">\n",
       "  <thead>\n",
       "    <tr style=\"text-align: right;\">\n",
       "      <th></th>\n",
       "      <th>PLAYER</th>\n",
       "    </tr>\n",
       "  </thead>\n",
       "  <tbody>\n",
       "    <tr>\n",
       "      <th>0</th>\n",
       "      <td>KLRahul</td>\n",
       "    </tr>\n",
       "    <tr>\n",
       "      <th>1</th>\n",
       "      <td>Shikhar Dhawan</td>\n",
       "    </tr>\n",
       "    <tr>\n",
       "      <th>2</th>\n",
       "      <td>David Warner</td>\n",
       "    </tr>\n",
       "    <tr>\n",
       "      <th>3</th>\n",
       "      <td>Shreyas Iyer</td>\n",
       "    </tr>\n",
       "    <tr>\n",
       "      <th>4</th>\n",
       "      <td>Ishan Kishan</td>\n",
       "    </tr>\n",
       "    <tr>\n",
       "      <th>...</th>\n",
       "      <td>...</td>\n",
       "    </tr>\n",
       "    <tr>\n",
       "      <th>95</th>\n",
       "      <td>Moeen Ali</td>\n",
       "    </tr>\n",
       "    <tr>\n",
       "      <th>96</th>\n",
       "      <td>Sandeep Sharma</td>\n",
       "    </tr>\n",
       "    <tr>\n",
       "      <th>97</th>\n",
       "      <td>Mohammad Nabi</td>\n",
       "    </tr>\n",
       "    <tr>\n",
       "      <th>98</th>\n",
       "      <td>Rinku Singh</td>\n",
       "    </tr>\n",
       "    <tr>\n",
       "      <th>99</th>\n",
       "      <td>Shivam Mavi</td>\n",
       "    </tr>\n",
       "  </tbody>\n",
       "</table>\n",
       "<p>100 rows × 1 columns</p>\n",
       "</div>"
      ],
      "text/plain": [
       "            PLAYER\n",
       "0          KLRahul\n",
       "1   Shikhar Dhawan\n",
       "2     David Warner\n",
       "3     Shreyas Iyer\n",
       "4     Ishan Kishan\n",
       "..             ...\n",
       "95       Moeen Ali\n",
       "96  Sandeep Sharma\n",
       "97   Mohammad Nabi\n",
       "98     Rinku Singh\n",
       "99     Shivam Mavi\n",
       "\n",
       "[100 rows x 1 columns]"
      ]
     },
     "execution_count": 8,
     "metadata": {},
     "output_type": "execute_result"
    }
   ],
   "source": [
    "d1 = pd.DataFrame(d['PLAYER'])\n",
    "d1 = d1.dropna()\n",
    "d1 = d1.reset_index(drop = True)\n",
    "d1"
   ]
  },
  {
   "cell_type": "code",
   "execution_count": 9,
   "metadata": {},
   "outputs": [
    {
     "data": {
      "text/html": [
       "<div>\n",
       "<style scoped>\n",
       "    .dataframe tbody tr th:only-of-type {\n",
       "        vertical-align: middle;\n",
       "    }\n",
       "\n",
       "    .dataframe tbody tr th {\n",
       "        vertical-align: top;\n",
       "    }\n",
       "\n",
       "    .dataframe thead th {\n",
       "        text-align: right;\n",
       "    }\n",
       "</style>\n",
       "<table border=\"1\" class=\"dataframe\">\n",
       "  <thead>\n",
       "    <tr style=\"text-align: right;\">\n",
       "      <th></th>\n",
       "      <th>POS</th>\n",
       "      <th>Mat</th>\n",
       "      <th>Inns</th>\n",
       "      <th>NO</th>\n",
       "      <th>Runs</th>\n",
       "      <th>HS</th>\n",
       "      <th>Avg</th>\n",
       "      <th>BF</th>\n",
       "      <th>SR</th>\n",
       "      <th>100</th>\n",
       "      <th>50</th>\n",
       "      <th>4s</th>\n",
       "      <th>6s</th>\n",
       "    </tr>\n",
       "  </thead>\n",
       "  <tbody>\n",
       "    <tr>\n",
       "      <th>0</th>\n",
       "      <td>1.0</td>\n",
       "      <td>14.0</td>\n",
       "      <td>14.0</td>\n",
       "      <td>2.0</td>\n",
       "      <td>670.0</td>\n",
       "      <td>132*</td>\n",
       "      <td>55.83</td>\n",
       "      <td>518.0</td>\n",
       "      <td>129.34</td>\n",
       "      <td>1.0</td>\n",
       "      <td>5.0</td>\n",
       "      <td>58.0</td>\n",
       "      <td>23.0</td>\n",
       "    </tr>\n",
       "    <tr>\n",
       "      <th>1</th>\n",
       "      <td>2.0</td>\n",
       "      <td>17.0</td>\n",
       "      <td>17.0</td>\n",
       "      <td>3.0</td>\n",
       "      <td>618.0</td>\n",
       "      <td>106*</td>\n",
       "      <td>44.14</td>\n",
       "      <td>427.0</td>\n",
       "      <td>144.73</td>\n",
       "      <td>2.0</td>\n",
       "      <td>4.0</td>\n",
       "      <td>67.0</td>\n",
       "      <td>12.0</td>\n",
       "    </tr>\n",
       "    <tr>\n",
       "      <th>2</th>\n",
       "      <td>3.0</td>\n",
       "      <td>16.0</td>\n",
       "      <td>16.0</td>\n",
       "      <td>2.0</td>\n",
       "      <td>548.0</td>\n",
       "      <td>85*</td>\n",
       "      <td>39.14</td>\n",
       "      <td>407.0</td>\n",
       "      <td>134.64</td>\n",
       "      <td>0.0</td>\n",
       "      <td>4.0</td>\n",
       "      <td>52.0</td>\n",
       "      <td>14.0</td>\n",
       "    </tr>\n",
       "    <tr>\n",
       "      <th>3</th>\n",
       "      <td>4.0</td>\n",
       "      <td>17.0</td>\n",
       "      <td>17.0</td>\n",
       "      <td>2.0</td>\n",
       "      <td>519.0</td>\n",
       "      <td>88*</td>\n",
       "      <td>34.6</td>\n",
       "      <td>421.0</td>\n",
       "      <td>123.27</td>\n",
       "      <td>0.0</td>\n",
       "      <td>3.0</td>\n",
       "      <td>40.0</td>\n",
       "      <td>16.0</td>\n",
       "    </tr>\n",
       "    <tr>\n",
       "      <th>4</th>\n",
       "      <td>5.0</td>\n",
       "      <td>14.0</td>\n",
       "      <td>13.0</td>\n",
       "      <td>4.0</td>\n",
       "      <td>516.0</td>\n",
       "      <td>99</td>\n",
       "      <td>57.33</td>\n",
       "      <td>354.0</td>\n",
       "      <td>145.76</td>\n",
       "      <td>0.0</td>\n",
       "      <td>4.0</td>\n",
       "      <td>36.0</td>\n",
       "      <td>30.0</td>\n",
       "    </tr>\n",
       "    <tr>\n",
       "      <th>...</th>\n",
       "      <td>...</td>\n",
       "      <td>...</td>\n",
       "      <td>...</td>\n",
       "      <td>...</td>\n",
       "      <td>...</td>\n",
       "      <td>...</td>\n",
       "      <td>...</td>\n",
       "      <td>...</td>\n",
       "      <td>...</td>\n",
       "      <td>...</td>\n",
       "      <td>...</td>\n",
       "      <td>...</td>\n",
       "      <td>...</td>\n",
       "    </tr>\n",
       "    <tr>\n",
       "      <th>95</th>\n",
       "      <td>96.0</td>\n",
       "      <td>3.0</td>\n",
       "      <td>3.0</td>\n",
       "      <td>0.0</td>\n",
       "      <td>12.0</td>\n",
       "      <td>11</td>\n",
       "      <td>4</td>\n",
       "      <td>16.0</td>\n",
       "      <td>75.00</td>\n",
       "      <td>0.0</td>\n",
       "      <td>0.0</td>\n",
       "      <td>1.0</td>\n",
       "      <td>0.0</td>\n",
       "    </tr>\n",
       "    <tr>\n",
       "      <th>96</th>\n",
       "      <td>97.0</td>\n",
       "      <td>13.0</td>\n",
       "      <td>5.0</td>\n",
       "      <td>3.0</td>\n",
       "      <td>12.0</td>\n",
       "      <td>9</td>\n",
       "      <td>6</td>\n",
       "      <td>15.0</td>\n",
       "      <td>80.00</td>\n",
       "      <td>0.0</td>\n",
       "      <td>0.0</td>\n",
       "      <td>1.0</td>\n",
       "      <td>0.0</td>\n",
       "    </tr>\n",
       "    <tr>\n",
       "      <th>97</th>\n",
       "      <td>98.0</td>\n",
       "      <td>1.0</td>\n",
       "      <td>1.0</td>\n",
       "      <td>1.0</td>\n",
       "      <td>11.0</td>\n",
       "      <td>11*</td>\n",
       "      <td>-</td>\n",
       "      <td>8.0</td>\n",
       "      <td>137.50</td>\n",
       "      <td>0.0</td>\n",
       "      <td>0.0</td>\n",
       "      <td>2.0</td>\n",
       "      <td>0.0</td>\n",
       "    </tr>\n",
       "    <tr>\n",
       "      <th>98</th>\n",
       "      <td>99.0</td>\n",
       "      <td>1.0</td>\n",
       "      <td>1.0</td>\n",
       "      <td>0.0</td>\n",
       "      <td>11.0</td>\n",
       "      <td>11</td>\n",
       "      <td>11</td>\n",
       "      <td>11.0</td>\n",
       "      <td>100.00</td>\n",
       "      <td>0.0</td>\n",
       "      <td>0.0</td>\n",
       "      <td>1.0</td>\n",
       "      <td>0.0</td>\n",
       "    </tr>\n",
       "    <tr>\n",
       "      <th>99</th>\n",
       "      <td>100.0</td>\n",
       "      <td>8.0</td>\n",
       "      <td>3.0</td>\n",
       "      <td>1.0</td>\n",
       "      <td>10.0</td>\n",
       "      <td>9</td>\n",
       "      <td>5</td>\n",
       "      <td>14.0</td>\n",
       "      <td>71.42</td>\n",
       "      <td>0.0</td>\n",
       "      <td>0.0</td>\n",
       "      <td>1.0</td>\n",
       "      <td>0.0</td>\n",
       "    </tr>\n",
       "  </tbody>\n",
       "</table>\n",
       "<p>100 rows × 13 columns</p>\n",
       "</div>"
      ],
      "text/plain": [
       "      POS   Mat  Inns   NO   Runs    HS    Avg     BF      SR  100   50    4s  \\\n",
       "0     1.0  14.0  14.0  2.0  670.0  132*  55.83  518.0  129.34  1.0  5.0  58.0   \n",
       "1     2.0  17.0  17.0  3.0  618.0  106*  44.14  427.0  144.73  2.0  4.0  67.0   \n",
       "2     3.0  16.0  16.0  2.0  548.0   85*  39.14  407.0  134.64  0.0  4.0  52.0   \n",
       "3     4.0  17.0  17.0  2.0  519.0   88*   34.6  421.0  123.27  0.0  3.0  40.0   \n",
       "4     5.0  14.0  13.0  4.0  516.0    99  57.33  354.0  145.76  0.0  4.0  36.0   \n",
       "..    ...   ...   ...  ...    ...   ...    ...    ...     ...  ...  ...   ...   \n",
       "95   96.0   3.0   3.0  0.0   12.0    11      4   16.0   75.00  0.0  0.0   1.0   \n",
       "96   97.0  13.0   5.0  3.0   12.0     9      6   15.0   80.00  0.0  0.0   1.0   \n",
       "97   98.0   1.0   1.0  1.0   11.0   11*      -    8.0  137.50  0.0  0.0   2.0   \n",
       "98   99.0   1.0   1.0  0.0   11.0    11     11   11.0  100.00  0.0  0.0   1.0   \n",
       "99  100.0   8.0   3.0  1.0   10.0     9      5   14.0   71.42  0.0  0.0   1.0   \n",
       "\n",
       "      6s  \n",
       "0   23.0  \n",
       "1   12.0  \n",
       "2   14.0  \n",
       "3   16.0  \n",
       "4   30.0  \n",
       "..   ...  \n",
       "95   0.0  \n",
       "96   0.0  \n",
       "97   0.0  \n",
       "98   0.0  \n",
       "99   0.0  \n",
       "\n",
       "[100 rows x 13 columns]"
      ]
     },
     "execution_count": 9,
     "metadata": {},
     "output_type": "execute_result"
    }
   ],
   "source": [
    "d2 = pd.DataFrame(d.drop('PLAYER',axis = 1))\n",
    "d2 = d2.dropna()\n",
    "d2 = d2.reset_index(drop = True)\n",
    "d2"
   ]
  },
  {
   "cell_type": "code",
   "execution_count": 10,
   "metadata": {},
   "outputs": [],
   "source": [
    "# Merging Dataset"
   ]
  },
  {
   "cell_type": "code",
   "execution_count": 11,
   "metadata": {},
   "outputs": [
    {
     "data": {
      "text/html": [
       "<div>\n",
       "<style scoped>\n",
       "    .dataframe tbody tr th:only-of-type {\n",
       "        vertical-align: middle;\n",
       "    }\n",
       "\n",
       "    .dataframe tbody tr th {\n",
       "        vertical-align: top;\n",
       "    }\n",
       "\n",
       "    .dataframe thead th {\n",
       "        text-align: right;\n",
       "    }\n",
       "</style>\n",
       "<table border=\"1\" class=\"dataframe\">\n",
       "  <thead>\n",
       "    <tr style=\"text-align: right;\">\n",
       "      <th></th>\n",
       "      <th>PLAYER</th>\n",
       "      <th>POS</th>\n",
       "      <th>Mat</th>\n",
       "      <th>Inns</th>\n",
       "      <th>NO</th>\n",
       "      <th>Runs</th>\n",
       "      <th>HS</th>\n",
       "      <th>Avg</th>\n",
       "      <th>BF</th>\n",
       "      <th>SR</th>\n",
       "      <th>100</th>\n",
       "      <th>50</th>\n",
       "      <th>4s</th>\n",
       "      <th>6s</th>\n",
       "    </tr>\n",
       "  </thead>\n",
       "  <tbody>\n",
       "    <tr>\n",
       "      <th>0</th>\n",
       "      <td>KLRahul</td>\n",
       "      <td>1.0</td>\n",
       "      <td>14.0</td>\n",
       "      <td>14.0</td>\n",
       "      <td>2.0</td>\n",
       "      <td>670.0</td>\n",
       "      <td>132*</td>\n",
       "      <td>55.83</td>\n",
       "      <td>518.0</td>\n",
       "      <td>129.34</td>\n",
       "      <td>1.0</td>\n",
       "      <td>5.0</td>\n",
       "      <td>58.0</td>\n",
       "      <td>23.0</td>\n",
       "    </tr>\n",
       "    <tr>\n",
       "      <th>1</th>\n",
       "      <td>Shikhar Dhawan</td>\n",
       "      <td>2.0</td>\n",
       "      <td>17.0</td>\n",
       "      <td>17.0</td>\n",
       "      <td>3.0</td>\n",
       "      <td>618.0</td>\n",
       "      <td>106*</td>\n",
       "      <td>44.14</td>\n",
       "      <td>427.0</td>\n",
       "      <td>144.73</td>\n",
       "      <td>2.0</td>\n",
       "      <td>4.0</td>\n",
       "      <td>67.0</td>\n",
       "      <td>12.0</td>\n",
       "    </tr>\n",
       "    <tr>\n",
       "      <th>2</th>\n",
       "      <td>David Warner</td>\n",
       "      <td>3.0</td>\n",
       "      <td>16.0</td>\n",
       "      <td>16.0</td>\n",
       "      <td>2.0</td>\n",
       "      <td>548.0</td>\n",
       "      <td>85*</td>\n",
       "      <td>39.14</td>\n",
       "      <td>407.0</td>\n",
       "      <td>134.64</td>\n",
       "      <td>0.0</td>\n",
       "      <td>4.0</td>\n",
       "      <td>52.0</td>\n",
       "      <td>14.0</td>\n",
       "    </tr>\n",
       "    <tr>\n",
       "      <th>3</th>\n",
       "      <td>Shreyas Iyer</td>\n",
       "      <td>4.0</td>\n",
       "      <td>17.0</td>\n",
       "      <td>17.0</td>\n",
       "      <td>2.0</td>\n",
       "      <td>519.0</td>\n",
       "      <td>88*</td>\n",
       "      <td>34.6</td>\n",
       "      <td>421.0</td>\n",
       "      <td>123.27</td>\n",
       "      <td>0.0</td>\n",
       "      <td>3.0</td>\n",
       "      <td>40.0</td>\n",
       "      <td>16.0</td>\n",
       "    </tr>\n",
       "    <tr>\n",
       "      <th>4</th>\n",
       "      <td>Ishan Kishan</td>\n",
       "      <td>5.0</td>\n",
       "      <td>14.0</td>\n",
       "      <td>13.0</td>\n",
       "      <td>4.0</td>\n",
       "      <td>516.0</td>\n",
       "      <td>99</td>\n",
       "      <td>57.33</td>\n",
       "      <td>354.0</td>\n",
       "      <td>145.76</td>\n",
       "      <td>0.0</td>\n",
       "      <td>4.0</td>\n",
       "      <td>36.0</td>\n",
       "      <td>30.0</td>\n",
       "    </tr>\n",
       "  </tbody>\n",
       "</table>\n",
       "</div>"
      ],
      "text/plain": [
       "           PLAYER  POS   Mat  Inns   NO   Runs    HS    Avg     BF      SR  \\\n",
       "0         KLRahul  1.0  14.0  14.0  2.0  670.0  132*  55.83  518.0  129.34   \n",
       "1  Shikhar Dhawan  2.0  17.0  17.0  3.0  618.0  106*  44.14  427.0  144.73   \n",
       "2    David Warner  3.0  16.0  16.0  2.0  548.0   85*  39.14  407.0  134.64   \n",
       "3    Shreyas Iyer  4.0  17.0  17.0  2.0  519.0   88*   34.6  421.0  123.27   \n",
       "4    Ishan Kishan  5.0  14.0  13.0  4.0  516.0    99  57.33  354.0  145.76   \n",
       "\n",
       "   100   50    4s    6s  \n",
       "0  1.0  5.0  58.0  23.0  \n",
       "1  2.0  4.0  67.0  12.0  \n",
       "2  0.0  4.0  52.0  14.0  \n",
       "3  0.0  3.0  40.0  16.0  \n",
       "4  0.0  4.0  36.0  30.0  "
      ]
     },
     "execution_count": 11,
     "metadata": {},
     "output_type": "execute_result"
    }
   ],
   "source": [
    "dd = pd.merge(d1,d2,left_index= True,right_index=True)\n",
    "dd.head()"
   ]
  },
  {
   "cell_type": "code",
   "execution_count": 12,
   "metadata": {},
   "outputs": [],
   "source": [
    "# checking null value after removing null values"
   ]
  },
  {
   "cell_type": "code",
   "execution_count": 13,
   "metadata": {},
   "outputs": [
    {
     "data": {
      "text/plain": [
       "PLAYER    0\n",
       "POS       0\n",
       "Mat       0\n",
       "Inns      0\n",
       "NO        0\n",
       "Runs      0\n",
       "HS        0\n",
       "Avg       0\n",
       "BF        0\n",
       "SR        0\n",
       "100       0\n",
       "50        0\n",
       "4s        0\n",
       "6s        0\n",
       "dtype: int64"
      ]
     },
     "execution_count": 13,
     "metadata": {},
     "output_type": "execute_result"
    }
   ],
   "source": [
    "dd.isnull().sum()"
   ]
  },
  {
   "cell_type": "code",
   "execution_count": 14,
   "metadata": {},
   "outputs": [],
   "source": [
    "# Finding datatypes"
   ]
  },
  {
   "cell_type": "code",
   "execution_count": 15,
   "metadata": {},
   "outputs": [
    {
     "data": {
      "text/plain": [
       "PLAYER     object\n",
       "POS       float64\n",
       "Mat       float64\n",
       "Inns      float64\n",
       "NO        float64\n",
       "Runs      float64\n",
       "HS         object\n",
       "Avg        object\n",
       "BF        float64\n",
       "SR        float64\n",
       "100       float64\n",
       "50        float64\n",
       "4s        float64\n",
       "6s        float64\n",
       "dtype: object"
      ]
     },
     "execution_count": 15,
     "metadata": {},
     "output_type": "execute_result"
    }
   ],
   "source": [
    "dd.dtypes"
   ]
  },
  {
   "cell_type": "code",
   "execution_count": 16,
   "metadata": {},
   "outputs": [
    {
     "data": {
      "text/plain": [
       "0     NOT_OUT\n",
       "1     NOT_OUT\n",
       "2     NOT_OUT\n",
       "3     NOT_OUT\n",
       "4         OUT\n",
       "       ...   \n",
       "95        OUT\n",
       "96        OUT\n",
       "97    NOT_OUT\n",
       "98        OUT\n",
       "99        OUT\n",
       "Name: a, Length: 100, dtype: object"
      ]
     },
     "execution_count": 16,
     "metadata": {},
     "output_type": "execute_result"
    }
   ],
   "source": [
    "dd['a'] = dd['HS'].str.slice(-1).replace({'*':'NOT_OUT',np.NaN:'OUT'})\n",
    "dd['a']"
   ]
  },
  {
   "cell_type": "code",
   "execution_count": 17,
   "metadata": {},
   "outputs": [],
   "source": [
    "dd.insert(loc = 7,column = 'HS_3',value = dd['a'].to_list())"
   ]
  },
  {
   "cell_type": "code",
   "execution_count": 18,
   "metadata": {},
   "outputs": [],
   "source": [
    "dd.drop('a',axis = 1,inplace = True)"
   ]
  },
  {
   "cell_type": "code",
   "execution_count": 19,
   "metadata": {},
   "outputs": [
    {
     "data": {
      "text/plain": [
       "array([55.83, 44.14, 39.14, 34.6, 57.33, 35.92, 40, 31.53, 42.36, 45.4,\n",
       "       40.81, 33.84, 32.69, 38.54, 41.8, 28.84, 39.88, 35.3, 25.14, 31.36,\n",
       "       31.18, 27.66, 32.8, 45.28, 25.91, 29.9, 41.14, 40.71, 35.12, 22.33,\n",
       "       53.6, 42.5, 46.4, 23, 17.53, 71.33, 51, 25, 16.33, 23.25, 23.12,\n",
       "       14.08, 20.85, 14.77, 21.66, 18.42, 13.44, 13, 14.62, 18.83, 14.12,\n",
       "       18.5, 22.2, 18.16, 15.42, 20.6, 101, 24.25, 12.28, 83, 19.5, '-',\n",
       "       14.2, 33, 20.66, 19.66, 14, 42, 13.33, 9.25, 12.33, 8.75, 8.5,\n",
       "       16.5, 10.66, 16, 9.66, 27, 7.33, 21, 10.5, 9.5, 9, 17, 8, 7.5, 5,\n",
       "       15, 12, 4, 6, 11], dtype=object)"
      ]
     },
     "execution_count": 19,
     "metadata": {},
     "output_type": "execute_result"
    }
   ],
   "source": [
    "dd['Avg'].unique()"
   ]
  },
  {
   "cell_type": "code",
   "execution_count": 20,
   "metadata": {},
   "outputs": [],
   "source": [
    "dd['Avg1'] = dd['Avg'].replace({'-':np.nan})"
   ]
  },
  {
   "cell_type": "code",
   "execution_count": 21,
   "metadata": {},
   "outputs": [],
   "source": [
    "dd['Avg1'] = dd['Avg1'].fillna(dd['Runs']/dd['Mat']).astype(float)"
   ]
  },
  {
   "cell_type": "code",
   "execution_count": 22,
   "metadata": {},
   "outputs": [
    {
     "data": {
      "text/plain": [
       "array([ 55.83      ,  44.14      ,  39.14      ,  34.6       ,\n",
       "        57.33      ,  35.92      ,  40.        ,  31.53      ,\n",
       "        42.36      ,  45.4       ,  40.81      ,  33.84      ,\n",
       "        32.69      ,  38.54      ,  41.8       ,  28.84      ,\n",
       "        39.88      ,  35.3       ,  25.14      ,  31.36      ,\n",
       "        31.18      ,  27.66      ,  32.8       ,  45.28      ,\n",
       "        25.91      ,  29.9       ,  41.14      ,  40.71      ,\n",
       "        35.12      ,  22.33      ,  53.6       ,  42.5       ,\n",
       "        46.4       ,  23.        ,  17.53      ,  71.33      ,\n",
       "        51.        ,  25.        ,  16.33      ,  23.25      ,\n",
       "        23.12      ,  14.08      ,  20.85      ,  14.77      ,\n",
       "        21.66      ,  18.42      ,  13.44      ,  13.        ,\n",
       "        14.62      ,  18.83      ,  14.12      ,  18.5       ,\n",
       "        22.2       ,  18.16      ,  15.42      ,  20.6       ,\n",
       "       101.        ,  24.25      ,  12.28      ,  83.        ,\n",
       "        19.5       ,   8.875     ,  14.2       ,  33.        ,\n",
       "        20.66      ,  19.66      ,  14.        ,   8.6       ,\n",
       "        42.        ,  13.33      ,   9.25      ,  12.33      ,\n",
       "         8.75      ,   8.5       ,  16.5       ,  10.66      ,\n",
       "        16.        ,   9.66      ,  27.        ,   7.33      ,\n",
       "        21.        ,  10.5       ,   9.5       ,   9.        ,\n",
       "        17.        ,   8.        ,   7.5       ,   5.        ,\n",
       "        15.        ,   4.33333333,  12.        ,   4.        ,\n",
       "         6.        ,  11.        ])"
      ]
     },
     "execution_count": 22,
     "metadata": {},
     "output_type": "execute_result"
    }
   ],
   "source": [
    "dd['Avg1'].unique()"
   ]
  },
  {
   "cell_type": "code",
   "execution_count": 23,
   "metadata": {},
   "outputs": [],
   "source": [
    "dd.drop('Avg',axis=1,inplace = True)"
   ]
  },
  {
   "cell_type": "code",
   "execution_count": 24,
   "metadata": {},
   "outputs": [],
   "source": [
    "for i in dd['HS'].index:\n",
    "    for j in str(dd.loc[i,'HS']):\n",
    "        if '*' in j:\n",
    "            dd.loc[i,'HS'] = dd.loc[i,'HS'].replace('*','')\n",
    "        else:\n",
    "            dd.loc[i,'HS'] = dd.loc[i,'HS']"
   ]
  },
  {
   "cell_type": "code",
   "execution_count": 25,
   "metadata": {},
   "outputs": [],
   "source": [
    "dd['HS'] = dd['HS'].astype(int)"
   ]
  },
  {
   "cell_type": "code",
   "execution_count": 26,
   "metadata": {},
   "outputs": [
    {
     "data": {
      "text/plain": [
       "PLAYER     object\n",
       "POS       float64\n",
       "Mat       float64\n",
       "Inns      float64\n",
       "NO        float64\n",
       "Runs      float64\n",
       "HS          int32\n",
       "HS_3       object\n",
       "BF        float64\n",
       "SR        float64\n",
       "100       float64\n",
       "50        float64\n",
       "4s        float64\n",
       "6s        float64\n",
       "Avg1      float64\n",
       "dtype: object"
      ]
     },
     "execution_count": 26,
     "metadata": {},
     "output_type": "execute_result"
    }
   ],
   "source": [
    "dd.dtypes"
   ]
  },
  {
   "cell_type": "code",
   "execution_count": 27,
   "metadata": {},
   "outputs": [
    {
     "data": {
      "text/html": [
       "<div>\n",
       "<style scoped>\n",
       "    .dataframe tbody tr th:only-of-type {\n",
       "        vertical-align: middle;\n",
       "    }\n",
       "\n",
       "    .dataframe tbody tr th {\n",
       "        vertical-align: top;\n",
       "    }\n",
       "\n",
       "    .dataframe thead th {\n",
       "        text-align: right;\n",
       "    }\n",
       "</style>\n",
       "<table border=\"1\" class=\"dataframe\">\n",
       "  <thead>\n",
       "    <tr style=\"text-align: right;\">\n",
       "      <th></th>\n",
       "      <th>PLAYER</th>\n",
       "      <th>POS</th>\n",
       "      <th>Mat</th>\n",
       "      <th>Inns</th>\n",
       "      <th>NO</th>\n",
       "      <th>Runs</th>\n",
       "      <th>HS</th>\n",
       "      <th>HS_3</th>\n",
       "      <th>BF</th>\n",
       "      <th>SR</th>\n",
       "      <th>100</th>\n",
       "      <th>50</th>\n",
       "      <th>4s</th>\n",
       "      <th>6s</th>\n",
       "      <th>Avg1</th>\n",
       "    </tr>\n",
       "  </thead>\n",
       "  <tbody>\n",
       "    <tr>\n",
       "      <th>0</th>\n",
       "      <td>KLRahul</td>\n",
       "      <td>1.0</td>\n",
       "      <td>14.0</td>\n",
       "      <td>14.0</td>\n",
       "      <td>2.0</td>\n",
       "      <td>670.0</td>\n",
       "      <td>132</td>\n",
       "      <td>NOT_OUT</td>\n",
       "      <td>518.0</td>\n",
       "      <td>129.34</td>\n",
       "      <td>1.0</td>\n",
       "      <td>5.0</td>\n",
       "      <td>58.0</td>\n",
       "      <td>23.0</td>\n",
       "      <td>55.83</td>\n",
       "    </tr>\n",
       "    <tr>\n",
       "      <th>1</th>\n",
       "      <td>Shikhar Dhawan</td>\n",
       "      <td>2.0</td>\n",
       "      <td>17.0</td>\n",
       "      <td>17.0</td>\n",
       "      <td>3.0</td>\n",
       "      <td>618.0</td>\n",
       "      <td>106</td>\n",
       "      <td>NOT_OUT</td>\n",
       "      <td>427.0</td>\n",
       "      <td>144.73</td>\n",
       "      <td>2.0</td>\n",
       "      <td>4.0</td>\n",
       "      <td>67.0</td>\n",
       "      <td>12.0</td>\n",
       "      <td>44.14</td>\n",
       "    </tr>\n",
       "    <tr>\n",
       "      <th>2</th>\n",
       "      <td>David Warner</td>\n",
       "      <td>3.0</td>\n",
       "      <td>16.0</td>\n",
       "      <td>16.0</td>\n",
       "      <td>2.0</td>\n",
       "      <td>548.0</td>\n",
       "      <td>85</td>\n",
       "      <td>NOT_OUT</td>\n",
       "      <td>407.0</td>\n",
       "      <td>134.64</td>\n",
       "      <td>0.0</td>\n",
       "      <td>4.0</td>\n",
       "      <td>52.0</td>\n",
       "      <td>14.0</td>\n",
       "      <td>39.14</td>\n",
       "    </tr>\n",
       "    <tr>\n",
       "      <th>3</th>\n",
       "      <td>Shreyas Iyer</td>\n",
       "      <td>4.0</td>\n",
       "      <td>17.0</td>\n",
       "      <td>17.0</td>\n",
       "      <td>2.0</td>\n",
       "      <td>519.0</td>\n",
       "      <td>88</td>\n",
       "      <td>NOT_OUT</td>\n",
       "      <td>421.0</td>\n",
       "      <td>123.27</td>\n",
       "      <td>0.0</td>\n",
       "      <td>3.0</td>\n",
       "      <td>40.0</td>\n",
       "      <td>16.0</td>\n",
       "      <td>34.60</td>\n",
       "    </tr>\n",
       "    <tr>\n",
       "      <th>4</th>\n",
       "      <td>Ishan Kishan</td>\n",
       "      <td>5.0</td>\n",
       "      <td>14.0</td>\n",
       "      <td>13.0</td>\n",
       "      <td>4.0</td>\n",
       "      <td>516.0</td>\n",
       "      <td>99</td>\n",
       "      <td>OUT</td>\n",
       "      <td>354.0</td>\n",
       "      <td>145.76</td>\n",
       "      <td>0.0</td>\n",
       "      <td>4.0</td>\n",
       "      <td>36.0</td>\n",
       "      <td>30.0</td>\n",
       "      <td>57.33</td>\n",
       "    </tr>\n",
       "  </tbody>\n",
       "</table>\n",
       "</div>"
      ],
      "text/plain": [
       "           PLAYER  POS   Mat  Inns   NO   Runs   HS     HS_3     BF      SR  \\\n",
       "0         KLRahul  1.0  14.0  14.0  2.0  670.0  132  NOT_OUT  518.0  129.34   \n",
       "1  Shikhar Dhawan  2.0  17.0  17.0  3.0  618.0  106  NOT_OUT  427.0  144.73   \n",
       "2    David Warner  3.0  16.0  16.0  2.0  548.0   85  NOT_OUT  407.0  134.64   \n",
       "3    Shreyas Iyer  4.0  17.0  17.0  2.0  519.0   88  NOT_OUT  421.0  123.27   \n",
       "4    Ishan Kishan  5.0  14.0  13.0  4.0  516.0   99      OUT  354.0  145.76   \n",
       "\n",
       "   100   50    4s    6s   Avg1  \n",
       "0  1.0  5.0  58.0  23.0  55.83  \n",
       "1  2.0  4.0  67.0  12.0  44.14  \n",
       "2  0.0  4.0  52.0  14.0  39.14  \n",
       "3  0.0  3.0  40.0  16.0  34.60  \n",
       "4  0.0  4.0  36.0  30.0  57.33  "
      ]
     },
     "execution_count": 27,
     "metadata": {},
     "output_type": "execute_result"
    }
   ],
   "source": [
    "dd.head()"
   ]
  },
  {
   "cell_type": "markdown",
   "metadata": {},
   "source": [
    "Q1 : Does the Stike Rate having effect on High Score in IPL 2020?"
   ]
  },
  {
   "cell_type": "code",
   "execution_count": 28,
   "metadata": {},
   "outputs": [],
   "source": [
    "# Hypothesis:\n",
    "# H0 : Stike Rate has no effect on High Score\n",
    "# Ha : Stike Rate has effect on High Score"
   ]
  },
  {
   "cell_type": "code",
   "execution_count": 29,
   "metadata": {},
   "outputs": [],
   "source": [
    "# Grouping:\n",
    "g1 = dd['SR']\n",
    "g2 = dd['HS']"
   ]
  },
  {
   "cell_type": "code",
   "execution_count": 30,
   "metadata": {},
   "outputs": [
    {
     "name": "stdout",
     "output_type": "stream",
     "text": [
      "Test of noramlity for G1 is : ShapiroResult(statistic=0.989804208278656, pvalue=0.6487743854522705)\n",
      "Test of Normality for G2 is : ShapiroResult(statistic=0.933882474899292, pvalue=8.322851499542594e-05)\n"
     ]
    }
   ],
   "source": [
    "# Test for Normality:\n",
    "print('Test of noramlity for G1 is :',shapiro(g1))\n",
    "print('Test of Normality for G2 is :',shapiro(g2))"
   ]
  },
  {
   "cell_type": "code",
   "execution_count": 31,
   "metadata": {},
   "outputs": [],
   "source": [
    "# From the above shapiro test we can conclude that pvalue of g1 > 0.05 and g2 is < 0.05. \n",
    "# among two groups if anyone pvalue > 0.05 ,then data is said to be normal. Proceeding with ttest."
   ]
  },
  {
   "cell_type": "code",
   "execution_count": 32,
   "metadata": {},
   "outputs": [
    {
     "data": {
      "text/plain": [
       "Ttest_indResult(statistic=19.272079574252327, pvalue=2.6744452146059855e-47)"
      ]
     },
     "execution_count": 32,
     "metadata": {},
     "output_type": "execute_result"
    }
   ],
   "source": [
    "# Mean Test:\n",
    "ttest_ind(g1,g2)"
   ]
  },
  {
   "cell_type": "code",
   "execution_count": 33,
   "metadata": {},
   "outputs": [],
   "source": [
    "# Pvalue < 0.05. Null Hypothesis holds good. Therefore we can conclude that, Stike rate has effect on High Score"
   ]
  },
  {
   "cell_type": "code",
   "execution_count": 34,
   "metadata": {},
   "outputs": [
    {
     "data": {
      "image/png": "[encoded data removed]",
      "text/plain": [
       "<Figure size 432x288 with 1 Axes>"
      ]
     },
     "metadata": {
      "needs_background": "light"
     },
     "output_type": "display_data"
    }
   ],
   "source": [
    "# Posthoc analysis:\n",
    "# To analyse the relationship between stike rate and high score, bivariant analysis is used.\n",
    "\n",
    "sns.regplot(dd['SR'],dd['HS'])\n",
    "plt.show()"
   ]
  },
  {
   "cell_type": "code",
   "execution_count": 35,
   "metadata": {},
   "outputs": [
    {
     "data": {
      "image/png": "[encoded data removed]",
      "text/plain": [
       "<Figure size 720x720 with 2 Axes>"
      ]
     },
     "metadata": {
      "needs_background": "light"
     },
     "output_type": "display_data"
    }
   ],
   "source": [
    "plt.figure(figsize = (10,10))\n",
    "sns.heatmap(dd.corr(),annot = True)\n",
    "plt.show()"
   ]
  },
  {
   "cell_type": "code",
   "execution_count": 36,
   "metadata": {},
   "outputs": [],
   "source": [
    "# From the above heatmap and regplot we can conclude that, we have slight positive correlation between Stike rate and High score"
   ]
  },
  {
   "cell_type": "markdown",
   "metadata": {},
   "source": [
    "Q2 : Is there any effect on Ball faced and Highest score in IPL 2020?"
   ]
  },
  {
   "cell_type": "code",
   "execution_count": 37,
   "metadata": {},
   "outputs": [],
   "source": [
    "# Hypothesis:\n",
    "# H0: Ball Face has no effect on High score\n",
    "# Ha: Ball Face has effect on High Score"
   ]
  },
  {
   "cell_type": "code",
   "execution_count": 38,
   "metadata": {},
   "outputs": [],
   "source": [
    "g1 = dd['BF']\n",
    "g2 = dd['HS']"
   ]
  },
  {
   "cell_type": "code",
   "execution_count": 39,
   "metadata": {},
   "outputs": [
    {
     "name": "stdout",
     "output_type": "stream",
     "text": [
      "ShapiroResult(statistic=0.8805328607559204, pvalue=1.9117227623155486e-07)\n",
      "ShapiroResult(statistic=0.933882474899292, pvalue=8.322851499542594e-05)\n"
     ]
    }
   ],
   "source": [
    "# Test of normality:\n",
    "print(shapiro(g1))\n",
    "print(shapiro(g2))\n",
    "\n",
    "# both pvalue < 0.05. Data is skewed."
   ]
  },
  {
   "cell_type": "code",
   "execution_count": 40,
   "metadata": {},
   "outputs": [
    {
     "data": {
      "text/plain": [
       "MannwhitneyuResult(statistic=2798.5, pvalue=3.754859349945478e-08)"
      ]
     },
     "execution_count": 40,
     "metadata": {},
     "output_type": "execute_result"
    }
   ],
   "source": [
    "# Mean test:\n",
    "mannwhitneyu(g1,g2)"
   ]
  },
  {
   "cell_type": "code",
   "execution_count": 41,
   "metadata": {},
   "outputs": [],
   "source": [
    "# Inference: \n",
    "# From the above mean test we can conclude that Ha holds good. Ballfaced has effect on High score, because p < 0.05"
   ]
  },
  {
   "cell_type": "code",
   "execution_count": 42,
   "metadata": {},
   "outputs": [
    {
     "data": {
      "image/png": "[encoded data removed]",
      "text/plain": [
       "<Figure size 432x288 with 1 Axes>"
      ]
     },
     "metadata": {
      "needs_background": "light"
     },
     "output_type": "display_data"
    }
   ],
   "source": [
    "# Posthoc analysis:\n",
    "sns.regplot(dd['BF'],dd['HS'])\n",
    "plt.show()"
   ]
  },
  {
   "cell_type": "code",
   "execution_count": 43,
   "metadata": {},
   "outputs": [],
   "source": [
    "# From the above regplot we can conclude that, Ball Faced and High Score has relationship with each other"
   ]
  },
  {
   "cell_type": "markdown",
   "metadata": {},
   "source": [
    "Q3 : Does High score has effect on Average run scored in IPL 2020?"
   ]
  },
  {
   "cell_type": "code",
   "execution_count": 44,
   "metadata": {},
   "outputs": [],
   "source": [
    "# Hypothesis:\n",
    "# H0 : High Score has no effect on Average run scored\n",
    "# Ha : High Score has effect on Average run scored"
   ]
  },
  {
   "cell_type": "code",
   "execution_count": 45,
   "metadata": {},
   "outputs": [],
   "source": [
    "g1 = dd['HS']\n",
    "g2 = dd['Avg1']"
   ]
  },
  {
   "cell_type": "code",
   "execution_count": 46,
   "metadata": {},
   "outputs": [
    {
     "name": "stdout",
     "output_type": "stream",
     "text": [
      "ShapiroResult(statistic=0.933882474899292, pvalue=8.322851499542594e-05)\n",
      "ShapiroResult(statistic=0.8744983673095703, pvalue=1.0693437246800386e-07)\n"
     ]
    }
   ],
   "source": [
    "# Test for Normality:\n",
    "print(shapiro(g1))\n",
    "print(shapiro(g2))\n",
    "\n",
    "# both the pvalues < 0.05. Data is skewed."
   ]
  },
  {
   "cell_type": "code",
   "execution_count": 47,
   "metadata": {},
   "outputs": [
    {
     "data": {
      "text/plain": [
       "MannwhitneyuResult(statistic=2886.0, pvalue=1.205390907459524e-07)"
      ]
     },
     "execution_count": 47,
     "metadata": {},
     "output_type": "execute_result"
    }
   ],
   "source": [
    "# Mean Test:\n",
    "mannwhitneyu(g1,g2)"
   ]
  },
  {
   "cell_type": "code",
   "execution_count": 48,
   "metadata": {},
   "outputs": [],
   "source": [
    "# Inference:\n",
    "# From the above mean test, we can conclude that High Score has effect on Average run scored, because P < 0.05.\n",
    "# From the below heatmap we can conclude that Highscore and Average has strong correlation with each other."
   ]
  },
  {
   "cell_type": "code",
   "execution_count": 49,
   "metadata": {},
   "outputs": [
    {
     "data": {
      "image/png": "[encoded data removed]",
      "text/plain": [
       "<Figure size 720x648 with 2 Axes>"
      ]
     },
     "metadata": {
      "needs_background": "light"
     },
     "output_type": "display_data"
    }
   ],
   "source": [
    "# Posthoc analysis:\n",
    "plt.figure(figsize = (10,9))\n",
    "sns.heatmap(dd.corr(),annot = True)\n",
    "plt.show()"
   ]
  },
  {
   "cell_type": "markdown",
   "metadata": {},
   "source": [
    "Q4 : Mean of Average Runs scored by Batsman in IPL 2020 is equal to 50"
   ]
  },
  {
   "cell_type": "code",
   "execution_count": 50,
   "metadata": {},
   "outputs": [],
   "source": [
    "# Hypothesis:\n",
    "# H0 : Mean of Average Run scored by batsman = 50\n",
    "# Ha : Mean of Average Run scored by batsman != 50"
   ]
  },
  {
   "cell_type": "code",
   "execution_count": 51,
   "metadata": {},
   "outputs": [
    {
     "name": "stdout",
     "output_type": "stream",
     "text": [
      "ShapiroResult(statistic=0.8744983673095703, pvalue=1.0693437246800386e-07)\n"
     ]
    }
   ],
   "source": [
    "# Test of Normality:\n",
    "print(shapiro(dd['Avg1']))\n",
    "\n",
    "# in the above mean test, p < 0.05. Data is skewed."
   ]
  },
  {
   "cell_type": "code",
   "execution_count": 52,
   "metadata": {},
   "outputs": [
    {
     "data": {
      "text/plain": [
       "WilcoxonResult(statistic=210.0, pvalue=1.7236067172312026e-15)"
      ]
     },
     "execution_count": 52,
     "metadata": {},
     "output_type": "execute_result"
    }
   ],
   "source": [
    "# Mean Test:\n",
    "wilcoxon(dd['Avg1'] - 50)"
   ]
  },
  {
   "cell_type": "code",
   "execution_count": 53,
   "metadata": {},
   "outputs": [],
   "source": [
    "# Inference:\n",
    "\n",
    "# since p < 0.05 in the above mean test, Ha hold good. Therefore mean of average run scored by batsman in IPL 2020 is not equal 50."
   ]
  },
  {
   "cell_type": "code",
   "execution_count": 54,
   "metadata": {},
   "outputs": [
    {
     "data": {
      "text/plain": [
       "25.340183333333314"
      ]
     },
     "execution_count": 54,
     "metadata": {},
     "output_type": "execute_result"
    }
   ],
   "source": [
    "# Posthoc analysis:\n",
    "dd.Avg1.mean()\n",
    "\n",
    "# mean of avgerage run scored by batsman in IPL 2020 is 25.34"
   ]
  },
  {
   "cell_type": "markdown",
   "metadata": {},
   "source": [
    "Q5 : In IPL 2020, Mean Stike Rate of players is 110."
   ]
  },
  {
   "cell_type": "code",
   "execution_count": 55,
   "metadata": {},
   "outputs": [],
   "source": [
    "# Hypothesis:\n",
    "# H0 : Mean Stike Rate of the player = 110\n",
    "# Ha : Mean Stike Rate of the player != 110"
   ]
  },
  {
   "cell_type": "code",
   "execution_count": 56,
   "metadata": {},
   "outputs": [
    {
     "name": "stdout",
     "output_type": "stream",
     "text": [
      "ShapiroResult(statistic=0.989804208278656, pvalue=0.6487743854522705)\n"
     ]
    }
   ],
   "source": [
    "# Test of Normality:\n",
    "print(shapiro(dd['SR']))\n",
    "\n",
    "# P > 0.05. Data is normal."
   ]
  },
  {
   "cell_type": "code",
   "execution_count": 138,
   "metadata": {},
   "outputs": [
    {
     "data": {
      "text/plain": [
       "Ttest_1sampResult(statistic=5.640342495982817, pvalue=1.6113729234039527e-07)"
      ]
     },
     "execution_count": 138,
     "metadata": {},
     "output_type": "execute_result"
    }
   ],
   "source": [
    "# Mean Test:\n",
    "ttest_1samp(dd['SR'],110)\n",
    "\n",
    "# Inference:\n",
    "# pvalue < 0.05, therefore Ha holds good. Mean Stike Rate of the player is not equal to 110."
   ]
  },
  {
   "cell_type": "code",
   "execution_count": 58,
   "metadata": {},
   "outputs": [
    {
     "data": {
      "text/plain": [
       "124.92330000000005"
      ]
     },
     "execution_count": 58,
     "metadata": {},
     "output_type": "execute_result"
    }
   ],
   "source": [
    "# Posthoc analysis:\n",
    "dd['SR'].mean()\n",
    "\n",
    "# Therfore mean Stike Rate of the player in IPL 2020 is approximately 125"
   ]
  },
  {
   "cell_type": "markdown",
   "metadata": {},
   "source": [
    "Q6 : Is High score has effect on batsman out and Not-out in IPL 2020?"
   ]
  },
  {
   "cell_type": "code",
   "execution_count": null,
   "metadata": {},
   "outputs": [],
   "source": [
    "# Hypothesis:\n",
    "# H0 : Batsman Out High Score = Batsman Not-out High Score\n",
    "# Ha : Batsman Out High Score != Batsman Not-out High Score"
   ]
  },
  {
   "cell_type": "code",
   "execution_count": 140,
   "metadata": {},
   "outputs": [],
   "source": [
    "g1 = dd[dd['HS_3']=='OUT']['HS']\n",
    "g2 = dd[dd['HS_3']=='NOT_OUT']['HS']"
   ]
  },
  {
   "cell_type": "code",
   "execution_count": 141,
   "metadata": {},
   "outputs": [
    {
     "name": "stdout",
     "output_type": "stream",
     "text": [
      "ShapiroResult(statistic=0.9420680999755859, pvalue=0.012438731268048286)\n",
      "ShapiroResult(statistic=0.9102458953857422, pvalue=0.0015545140486210585)\n"
     ]
    }
   ],
   "source": [
    "# Test of Normality:\n",
    "print(shapiro(g1))\n",
    "print(shapiro(g2))\n",
    "\n",
    "# pvalue of g1 and g2 < 0.05. Therefore data is skewed."
   ]
  },
  {
   "cell_type": "code",
   "execution_count": 142,
   "metadata": {},
   "outputs": [
    {
     "data": {
      "text/plain": [
       "MannwhitneyuResult(statistic=1227.5, pvalue=0.4518877632297305)"
      ]
     },
     "execution_count": 142,
     "metadata": {},
     "output_type": "execute_result"
    }
   ],
   "source": [
    "# Mean Test:\n",
    "mannwhitneyu(g1,g2)"
   ]
  },
  {
   "cell_type": "code",
   "execution_count": null,
   "metadata": {},
   "outputs": [],
   "source": [
    "# Inference:\n",
    "\n",
    "# p value > 0.05. Therefore null hypothesis holds good. \n",
    "# we can conclude that, Batsman Out High Score is equal to Batsman Not-Out High Score."
   ]
  },
  {
   "cell_type": "markdown",
   "metadata": {},
   "source": [
    "Q7 : Does Batsman Run has effect on Stike rate in IPL 2020? "
   ]
  },
  {
   "cell_type": "code",
   "execution_count": null,
   "metadata": {},
   "outputs": [],
   "source": [
    "# Hypothesis:\n",
    "# H0 : Run has no effect on Stike Rate\n",
    "# Ha : Run has effect on Stike Rate"
   ]
  },
  {
   "cell_type": "code",
   "execution_count": 145,
   "metadata": {},
   "outputs": [],
   "source": [
    "g1 = dd['Runs']\n",
    "g2 = dd['SR']"
   ]
  },
  {
   "cell_type": "code",
   "execution_count": 146,
   "metadata": {},
   "outputs": [
    {
     "name": "stdout",
     "output_type": "stream",
     "text": [
      "ShapiroResult(statistic=0.874904453754425, pvalue=1.1113918674254819e-07)\n",
      "ShapiroResult(statistic=0.989804208278656, pvalue=0.6487743854522705)\n"
     ]
    }
   ],
   "source": [
    "# Test of Normality:\n",
    "print(shapiro(g1))\n",
    "print(shapiro(g2))\n",
    "\n",
    "# p value > 0.05. Therefore Data is normal"
   ]
  },
  {
   "cell_type": "code",
   "execution_count": 147,
   "metadata": {},
   "outputs": [
    {
     "data": {
      "text/plain": [
       "Ttest_indResult(statistic=3.421486713883457, pvalue=0.0007565067976513197)"
      ]
     },
     "execution_count": 147,
     "metadata": {},
     "output_type": "execute_result"
    }
   ],
   "source": [
    "# Mean Test:\n",
    "ttest_ind(g1,g2)"
   ]
  },
  {
   "cell_type": "code",
   "execution_count": 148,
   "metadata": {},
   "outputs": [
    {
     "data": {
      "image/png": "[encoded data removed]",
      "text/plain": [
       "<Figure size 432x288 with 1 Axes>"
      ]
     },
     "metadata": {
      "needs_background": "light"
     },
     "output_type": "display_data"
    }
   ],
   "source": [
    "# Inference: pvalue > 0.05. Therefore Ha holds good. Batsman Run has effect on Stike Rate in IPL 2020\n",
    "\n",
    "# Posthoc analysis:\n",
    "\n",
    "sns.regplot(dd['Runs'],dd['SR'])\n",
    "plt.show()\n",
    "\n",
    "# From the below plot, we can conclude that, Runs and SR has effect with each other."
   ]
  },
  {
   "cell_type": "markdown",
   "metadata": {},
   "source": [
    "# Description about Bowler Dataset\n",
    "\n",
    "PLAYER : Name of the Player\n",
    "\n",
    "Mat: no.of matches\n",
    "    \n",
    "Inns : no.of matches\n",
    "\n",
    "Runs: Runs given in overall IPL\n",
    "\n",
    "Ov : Overs bowled\n",
    "\n",
    "Wkts : Total number of wickets\n",
    "\n",
    "BBI : Best Bowling Inning (maximum wickets with lowest run)\n",
    "  \n",
    "Avg : Number of runs they have conceded per wicket taken. Lower the bowling average, better bowler performing\n",
    "\n",
    "Econ : Avg number of runs they have conceded per over bowled. Lower economy rate, better bowler performing.\n",
    "\n",
    "SR : Avg number of balls bowled per wicket taken. Lower strike rate, effective bowler taking wickets quickly\n",
    "\n",
    "4W : 4 wickets in each match\n",
    "\n",
    "5W : 5 wicktes in each match"
   ]
  },
  {
   "cell_type": "code",
   "execution_count": 59,
   "metadata": {},
   "outputs": [],
   "source": [
    "# Loading Bowler Dataset:"
   ]
  },
  {
   "cell_type": "code",
   "execution_count": 60,
   "metadata": {},
   "outputs": [
    {
     "data": {
      "text/html": [
       "<div>\n",
       "<style scoped>\n",
       "    .dataframe tbody tr th:only-of-type {\n",
       "        vertical-align: middle;\n",
       "    }\n",
       "\n",
       "    .dataframe tbody tr th {\n",
       "        vertical-align: top;\n",
       "    }\n",
       "\n",
       "    .dataframe thead th {\n",
       "        text-align: right;\n",
       "    }\n",
       "</style>\n",
       "<table border=\"1\" class=\"dataframe\">\n",
       "  <thead>\n",
       "    <tr style=\"text-align: right;\">\n",
       "      <th></th>\n",
       "      <th>POS</th>\n",
       "      <th>PLAYER</th>\n",
       "      <th>Mat</th>\n",
       "      <th>Inns</th>\n",
       "      <th>Ov</th>\n",
       "      <th>Runs</th>\n",
       "      <th>Wkts</th>\n",
       "      <th>BBI</th>\n",
       "      <th>Avg</th>\n",
       "      <th>Econ</th>\n",
       "      <th>SR</th>\n",
       "      <th>4w</th>\n",
       "      <th>5w</th>\n",
       "    </tr>\n",
       "  </thead>\n",
       "  <tbody>\n",
       "    <tr>\n",
       "      <th>0</th>\n",
       "      <td>1.0</td>\n",
       "      <td>NaN</td>\n",
       "      <td>17.0</td>\n",
       "      <td>17.0</td>\n",
       "      <td>65.4</td>\n",
       "      <td>548.0</td>\n",
       "      <td>30.0</td>\n",
       "      <td>4/24</td>\n",
       "      <td>18.26</td>\n",
       "      <td>8.34</td>\n",
       "      <td>13.13</td>\n",
       "      <td>2.0</td>\n",
       "      <td>0.0</td>\n",
       "    </tr>\n",
       "    <tr>\n",
       "      <th>1</th>\n",
       "      <td>NaN</td>\n",
       "      <td>Kagiso Rabada</td>\n",
       "      <td>NaN</td>\n",
       "      <td>NaN</td>\n",
       "      <td>NaN</td>\n",
       "      <td>NaN</td>\n",
       "      <td>NaN</td>\n",
       "      <td>NaN</td>\n",
       "      <td>NaN</td>\n",
       "      <td>NaN</td>\n",
       "      <td>NaN</td>\n",
       "      <td>NaN</td>\n",
       "      <td>NaN</td>\n",
       "    </tr>\n",
       "    <tr>\n",
       "      <th>2</th>\n",
       "      <td>2.0</td>\n",
       "      <td>NaN</td>\n",
       "      <td>15.0</td>\n",
       "      <td>15.0</td>\n",
       "      <td>60.0</td>\n",
       "      <td>404.0</td>\n",
       "      <td>27.0</td>\n",
       "      <td>4/14</td>\n",
       "      <td>14.96</td>\n",
       "      <td>6.73</td>\n",
       "      <td>13.33</td>\n",
       "      <td>2.0</td>\n",
       "      <td>0.0</td>\n",
       "    </tr>\n",
       "    <tr>\n",
       "      <th>3</th>\n",
       "      <td>NaN</td>\n",
       "      <td>Jasprit Bumrah</td>\n",
       "      <td>NaN</td>\n",
       "      <td>NaN</td>\n",
       "      <td>NaN</td>\n",
       "      <td>NaN</td>\n",
       "      <td>NaN</td>\n",
       "      <td>NaN</td>\n",
       "      <td>NaN</td>\n",
       "      <td>NaN</td>\n",
       "      <td>NaN</td>\n",
       "      <td>NaN</td>\n",
       "      <td>NaN</td>\n",
       "    </tr>\n",
       "    <tr>\n",
       "      <th>4</th>\n",
       "      <td>3.0</td>\n",
       "      <td>NaN</td>\n",
       "      <td>15.0</td>\n",
       "      <td>15.0</td>\n",
       "      <td>57.2</td>\n",
       "      <td>457.0</td>\n",
       "      <td>25.0</td>\n",
       "      <td>4/18</td>\n",
       "      <td>18.28</td>\n",
       "      <td>7.97</td>\n",
       "      <td>13.76</td>\n",
       "      <td>1.0</td>\n",
       "      <td>0.0</td>\n",
       "    </tr>\n",
       "  </tbody>\n",
       "</table>\n",
       "</div>"
      ],
      "text/plain": [
       "   POS          PLAYER   Mat  Inns    Ov   Runs  Wkts    BBI    Avg  Econ  \\\n",
       "0  1.0             NaN  17.0  17.0  65.4  548.0  30.0   4/24  18.26  8.34   \n",
       "1  NaN   Kagiso Rabada   NaN   NaN   NaN    NaN   NaN    NaN    NaN   NaN   \n",
       "2  2.0             NaN  15.0  15.0  60.0  404.0  27.0   4/14  14.96  6.73   \n",
       "3  NaN  Jasprit Bumrah   NaN   NaN   NaN    NaN   NaN    NaN    NaN   NaN   \n",
       "4  3.0             NaN  15.0  15.0  57.2  457.0  25.0  4/18   18.28  7.97   \n",
       "\n",
       "      SR   4w   5w  \n",
       "0  13.13  2.0  0.0  \n",
       "1    NaN  NaN  NaN  \n",
       "2  13.33  2.0  0.0  \n",
       "3    NaN  NaN  NaN  \n",
       "4  13.76  1.0  0.0  "
      ]
     },
     "execution_count": 60,
     "metadata": {},
     "output_type": "execute_result"
    }
   ],
   "source": [
    "d1 = pd.read_excel('bowler-stats.xlsx')\n",
    "d1.head()"
   ]
  },
  {
   "cell_type": "code",
   "execution_count": 61,
   "metadata": {},
   "outputs": [],
   "source": [
    "# Computing null values:"
   ]
  },
  {
   "cell_type": "code",
   "execution_count": 62,
   "metadata": {},
   "outputs": [
    {
     "data": {
      "text/plain": [
       "POS       98\n",
       "PLAYER    98\n",
       "Mat       98\n",
       "Inns      98\n",
       "Ov        98\n",
       "Runs      98\n",
       "Wkts      98\n",
       "BBI       98\n",
       "Avg       98\n",
       "Econ      98\n",
       "SR        98\n",
       "4w        98\n",
       "5w        98\n",
       "dtype: int64"
      ]
     },
     "execution_count": 62,
     "metadata": {},
     "output_type": "execute_result"
    }
   ],
   "source": [
    "d1.isnull().sum()"
   ]
  },
  {
   "cell_type": "code",
   "execution_count": 63,
   "metadata": {},
   "outputs": [],
   "source": [
    "# null value imputation:"
   ]
  },
  {
   "cell_type": "code",
   "execution_count": 64,
   "metadata": {},
   "outputs": [
    {
     "data": {
      "text/html": [
       "<div>\n",
       "<style scoped>\n",
       "    .dataframe tbody tr th:only-of-type {\n",
       "        vertical-align: middle;\n",
       "    }\n",
       "\n",
       "    .dataframe tbody tr th {\n",
       "        vertical-align: top;\n",
       "    }\n",
       "\n",
       "    .dataframe thead th {\n",
       "        text-align: right;\n",
       "    }\n",
       "</style>\n",
       "<table border=\"1\" class=\"dataframe\">\n",
       "  <thead>\n",
       "    <tr style=\"text-align: right;\">\n",
       "      <th></th>\n",
       "      <th>PLAYER</th>\n",
       "    </tr>\n",
       "  </thead>\n",
       "  <tbody>\n",
       "    <tr>\n",
       "      <th>0</th>\n",
       "      <td>Kagiso Rabada</td>\n",
       "    </tr>\n",
       "    <tr>\n",
       "      <th>1</th>\n",
       "      <td>Jasprit Bumrah</td>\n",
       "    </tr>\n",
       "    <tr>\n",
       "      <th>2</th>\n",
       "      <td>Trent Boult</td>\n",
       "    </tr>\n",
       "    <tr>\n",
       "      <th>3</th>\n",
       "      <td>Anrich Nortje</td>\n",
       "    </tr>\n",
       "    <tr>\n",
       "      <th>4</th>\n",
       "      <td>Yuzvendra Chahal</td>\n",
       "    </tr>\n",
       "    <tr>\n",
       "      <th>...</th>\n",
       "      <td>...</td>\n",
       "    </tr>\n",
       "    <tr>\n",
       "      <th>93</th>\n",
       "      <td>Varun Aaron</td>\n",
       "    </tr>\n",
       "    <tr>\n",
       "      <th>94</th>\n",
       "      <td>Umesh Yadav</td>\n",
       "    </tr>\n",
       "    <tr>\n",
       "      <th>95</th>\n",
       "      <td>Kane Williamson</td>\n",
       "    </tr>\n",
       "    <tr>\n",
       "      <th>96</th>\n",
       "      <td>David Warner</td>\n",
       "    </tr>\n",
       "    <tr>\n",
       "      <th>97</th>\n",
       "      <td>Riyan Parag</td>\n",
       "    </tr>\n",
       "  </tbody>\n",
       "</table>\n",
       "<p>98 rows × 1 columns</p>\n",
       "</div>"
      ],
      "text/plain": [
       "              PLAYER\n",
       "0      Kagiso Rabada\n",
       "1     Jasprit Bumrah\n",
       "2        Trent Boult\n",
       "3      Anrich Nortje\n",
       "4   Yuzvendra Chahal\n",
       "..               ...\n",
       "93       Varun Aaron\n",
       "94       Umesh Yadav\n",
       "95   Kane Williamson\n",
       "96      David Warner\n",
       "97       Riyan Parag\n",
       "\n",
       "[98 rows x 1 columns]"
      ]
     },
     "execution_count": 64,
     "metadata": {},
     "output_type": "execute_result"
    }
   ],
   "source": [
    "d11 = pd.DataFrame(d1['PLAYER'])\n",
    "d11 = d11.dropna()\n",
    "d11 = d11.reset_index(drop = True)\n",
    "d11"
   ]
  },
  {
   "cell_type": "code",
   "execution_count": 65,
   "metadata": {},
   "outputs": [
    {
     "data": {
      "text/html": [
       "<div>\n",
       "<style scoped>\n",
       "    .dataframe tbody tr th:only-of-type {\n",
       "        vertical-align: middle;\n",
       "    }\n",
       "\n",
       "    .dataframe tbody tr th {\n",
       "        vertical-align: top;\n",
       "    }\n",
       "\n",
       "    .dataframe thead th {\n",
       "        text-align: right;\n",
       "    }\n",
       "</style>\n",
       "<table border=\"1\" class=\"dataframe\">\n",
       "  <thead>\n",
       "    <tr style=\"text-align: right;\">\n",
       "      <th></th>\n",
       "      <th>POS</th>\n",
       "      <th>Mat</th>\n",
       "      <th>Inns</th>\n",
       "      <th>Ov</th>\n",
       "      <th>Runs</th>\n",
       "      <th>Wkts</th>\n",
       "      <th>BBI</th>\n",
       "      <th>Avg</th>\n",
       "      <th>Econ</th>\n",
       "      <th>SR</th>\n",
       "      <th>4w</th>\n",
       "      <th>5w</th>\n",
       "    </tr>\n",
       "  </thead>\n",
       "  <tbody>\n",
       "    <tr>\n",
       "      <th>0</th>\n",
       "      <td>1.0</td>\n",
       "      <td>17.0</td>\n",
       "      <td>17.0</td>\n",
       "      <td>65.4</td>\n",
       "      <td>548.0</td>\n",
       "      <td>30.0</td>\n",
       "      <td>4/24</td>\n",
       "      <td>18.26</td>\n",
       "      <td>8.34</td>\n",
       "      <td>13.13</td>\n",
       "      <td>2.0</td>\n",
       "      <td>0.0</td>\n",
       "    </tr>\n",
       "    <tr>\n",
       "      <th>1</th>\n",
       "      <td>2.0</td>\n",
       "      <td>15.0</td>\n",
       "      <td>15.0</td>\n",
       "      <td>60.0</td>\n",
       "      <td>404.0</td>\n",
       "      <td>27.0</td>\n",
       "      <td>4/14</td>\n",
       "      <td>14.96</td>\n",
       "      <td>6.73</td>\n",
       "      <td>13.33</td>\n",
       "      <td>2.0</td>\n",
       "      <td>0.0</td>\n",
       "    </tr>\n",
       "    <tr>\n",
       "      <th>2</th>\n",
       "      <td>3.0</td>\n",
       "      <td>15.0</td>\n",
       "      <td>15.0</td>\n",
       "      <td>57.2</td>\n",
       "      <td>457.0</td>\n",
       "      <td>25.0</td>\n",
       "      <td>4/18</td>\n",
       "      <td>18.28</td>\n",
       "      <td>7.97</td>\n",
       "      <td>13.76</td>\n",
       "      <td>1.0</td>\n",
       "      <td>0.0</td>\n",
       "    </tr>\n",
       "    <tr>\n",
       "      <th>3</th>\n",
       "      <td>4.0</td>\n",
       "      <td>16.0</td>\n",
       "      <td>16.0</td>\n",
       "      <td>61.0</td>\n",
       "      <td>512.0</td>\n",
       "      <td>22.0</td>\n",
       "      <td>3/33</td>\n",
       "      <td>23.27</td>\n",
       "      <td>8.39</td>\n",
       "      <td>16.63</td>\n",
       "      <td>0.0</td>\n",
       "      <td>0.0</td>\n",
       "    </tr>\n",
       "    <tr>\n",
       "      <th>4</th>\n",
       "      <td>5.0</td>\n",
       "      <td>15.0</td>\n",
       "      <td>15.0</td>\n",
       "      <td>57.1</td>\n",
       "      <td>405.0</td>\n",
       "      <td>21.0</td>\n",
       "      <td>3/18</td>\n",
       "      <td>19.28</td>\n",
       "      <td>7.08</td>\n",
       "      <td>16.33</td>\n",
       "      <td>0.0</td>\n",
       "      <td>0.0</td>\n",
       "    </tr>\n",
       "    <tr>\n",
       "      <th>...</th>\n",
       "      <td>...</td>\n",
       "      <td>...</td>\n",
       "      <td>...</td>\n",
       "      <td>...</td>\n",
       "      <td>...</td>\n",
       "      <td>...</td>\n",
       "      <td>...</td>\n",
       "      <td>...</td>\n",
       "      <td>...</td>\n",
       "      <td>...</td>\n",
       "      <td>...</td>\n",
       "      <td>...</td>\n",
       "    </tr>\n",
       "    <tr>\n",
       "      <th>93</th>\n",
       "      <td>94.0</td>\n",
       "      <td>3.0</td>\n",
       "      <td>3.0</td>\n",
       "      <td>8.0</td>\n",
       "      <td>94.0</td>\n",
       "      <td>0.0</td>\n",
       "      <td>0/22</td>\n",
       "      <td>-</td>\n",
       "      <td>11.75</td>\n",
       "      <td>-</td>\n",
       "      <td>0.0</td>\n",
       "      <td>0.0</td>\n",
       "    </tr>\n",
       "    <tr>\n",
       "      <th>94</th>\n",
       "      <td>95.0</td>\n",
       "      <td>2.0</td>\n",
       "      <td>2.0</td>\n",
       "      <td>7.0</td>\n",
       "      <td>83.0</td>\n",
       "      <td>0.0</td>\n",
       "      <td>0/35</td>\n",
       "      <td>-</td>\n",
       "      <td>11.85</td>\n",
       "      <td>-</td>\n",
       "      <td>0.0</td>\n",
       "      <td>0.0</td>\n",
       "    </tr>\n",
       "    <tr>\n",
       "      <th>95</th>\n",
       "      <td>96.0</td>\n",
       "      <td>12.0</td>\n",
       "      <td>1.0</td>\n",
       "      <td>2.0</td>\n",
       "      <td>24.0</td>\n",
       "      <td>0.0</td>\n",
       "      <td>0/24</td>\n",
       "      <td>-</td>\n",
       "      <td>12.00</td>\n",
       "      <td>-</td>\n",
       "      <td>0.0</td>\n",
       "      <td>0.0</td>\n",
       "    </tr>\n",
       "    <tr>\n",
       "      <th>96</th>\n",
       "      <td>97.0</td>\n",
       "      <td>16.0</td>\n",
       "      <td>1.0</td>\n",
       "      <td>0.1</td>\n",
       "      <td>2.0</td>\n",
       "      <td>0.0</td>\n",
       "      <td>0/2</td>\n",
       "      <td>-</td>\n",
       "      <td>12.00</td>\n",
       "      <td>-</td>\n",
       "      <td>0.0</td>\n",
       "      <td>0.0</td>\n",
       "    </tr>\n",
       "    <tr>\n",
       "      <th>97</th>\n",
       "      <td>98.0</td>\n",
       "      <td>12.0</td>\n",
       "      <td>2.0</td>\n",
       "      <td>2.0</td>\n",
       "      <td>27.0</td>\n",
       "      <td>0.0</td>\n",
       "      <td>0/13</td>\n",
       "      <td>-</td>\n",
       "      <td>13.50</td>\n",
       "      <td>-</td>\n",
       "      <td>0.0</td>\n",
       "      <td>0.0</td>\n",
       "    </tr>\n",
       "  </tbody>\n",
       "</table>\n",
       "<p>98 rows × 12 columns</p>\n",
       "</div>"
      ],
      "text/plain": [
       "     POS   Mat  Inns    Ov   Runs  Wkts    BBI    Avg   Econ     SR   4w   5w\n",
       "0    1.0  17.0  17.0  65.4  548.0  30.0   4/24  18.26   8.34  13.13  2.0  0.0\n",
       "1    2.0  15.0  15.0  60.0  404.0  27.0   4/14  14.96   6.73  13.33  2.0  0.0\n",
       "2    3.0  15.0  15.0  57.2  457.0  25.0  4/18   18.28   7.97  13.76  1.0  0.0\n",
       "3    4.0  16.0  16.0  61.0  512.0  22.0  3/33   23.27   8.39  16.63  0.0  0.0\n",
       "4    5.0  15.0  15.0  57.1  405.0  21.0   3/18  19.28   7.08  16.33  0.0  0.0\n",
       "..   ...   ...   ...   ...    ...   ...    ...    ...    ...    ...  ...  ...\n",
       "93  94.0   3.0   3.0   8.0   94.0   0.0   0/22      -  11.75      -  0.0  0.0\n",
       "94  95.0   2.0   2.0   7.0   83.0   0.0   0/35      -  11.85      -  0.0  0.0\n",
       "95  96.0  12.0   1.0   2.0   24.0   0.0   0/24      -  12.00      -  0.0  0.0\n",
       "96  97.0  16.0   1.0   0.1    2.0   0.0    0/2      -  12.00      -  0.0  0.0\n",
       "97  98.0  12.0   2.0   2.0   27.0   0.0   0/13      -  13.50      -  0.0  0.0\n",
       "\n",
       "[98 rows x 12 columns]"
      ]
     },
     "execution_count": 65,
     "metadata": {},
     "output_type": "execute_result"
    }
   ],
   "source": [
    "d12 = pd.DataFrame(d1.drop('PLAYER',axis = 1))\n",
    "d12 = d12.dropna()\n",
    "d12 = d12.reset_index(drop = True)\n",
    "d12"
   ]
  },
  {
   "cell_type": "code",
   "execution_count": 66,
   "metadata": {},
   "outputs": [
    {
     "data": {
      "text/html": [
       "<div>\n",
       "<style scoped>\n",
       "    .dataframe tbody tr th:only-of-type {\n",
       "        vertical-align: middle;\n",
       "    }\n",
       "\n",
       "    .dataframe tbody tr th {\n",
       "        vertical-align: top;\n",
       "    }\n",
       "\n",
       "    .dataframe thead th {\n",
       "        text-align: right;\n",
       "    }\n",
       "</style>\n",
       "<table border=\"1\" class=\"dataframe\">\n",
       "  <thead>\n",
       "    <tr style=\"text-align: right;\">\n",
       "      <th></th>\n",
       "      <th>PLAYER</th>\n",
       "      <th>POS</th>\n",
       "      <th>Mat</th>\n",
       "      <th>Inns</th>\n",
       "      <th>Ov</th>\n",
       "      <th>Runs</th>\n",
       "      <th>Wkts</th>\n",
       "      <th>BBI</th>\n",
       "      <th>Avg</th>\n",
       "      <th>Econ</th>\n",
       "      <th>SR</th>\n",
       "      <th>4w</th>\n",
       "      <th>5w</th>\n",
       "    </tr>\n",
       "  </thead>\n",
       "  <tbody>\n",
       "    <tr>\n",
       "      <th>0</th>\n",
       "      <td>Kagiso Rabada</td>\n",
       "      <td>1.0</td>\n",
       "      <td>17.0</td>\n",
       "      <td>17.0</td>\n",
       "      <td>65.4</td>\n",
       "      <td>548.0</td>\n",
       "      <td>30.0</td>\n",
       "      <td>4/24</td>\n",
       "      <td>18.26</td>\n",
       "      <td>8.34</td>\n",
       "      <td>13.13</td>\n",
       "      <td>2.0</td>\n",
       "      <td>0.0</td>\n",
       "    </tr>\n",
       "    <tr>\n",
       "      <th>1</th>\n",
       "      <td>Jasprit Bumrah</td>\n",
       "      <td>2.0</td>\n",
       "      <td>15.0</td>\n",
       "      <td>15.0</td>\n",
       "      <td>60.0</td>\n",
       "      <td>404.0</td>\n",
       "      <td>27.0</td>\n",
       "      <td>4/14</td>\n",
       "      <td>14.96</td>\n",
       "      <td>6.73</td>\n",
       "      <td>13.33</td>\n",
       "      <td>2.0</td>\n",
       "      <td>0.0</td>\n",
       "    </tr>\n",
       "    <tr>\n",
       "      <th>2</th>\n",
       "      <td>Trent Boult</td>\n",
       "      <td>3.0</td>\n",
       "      <td>15.0</td>\n",
       "      <td>15.0</td>\n",
       "      <td>57.2</td>\n",
       "      <td>457.0</td>\n",
       "      <td>25.0</td>\n",
       "      <td>4/18</td>\n",
       "      <td>18.28</td>\n",
       "      <td>7.97</td>\n",
       "      <td>13.76</td>\n",
       "      <td>1.0</td>\n",
       "      <td>0.0</td>\n",
       "    </tr>\n",
       "    <tr>\n",
       "      <th>3</th>\n",
       "      <td>Anrich Nortje</td>\n",
       "      <td>4.0</td>\n",
       "      <td>16.0</td>\n",
       "      <td>16.0</td>\n",
       "      <td>61.0</td>\n",
       "      <td>512.0</td>\n",
       "      <td>22.0</td>\n",
       "      <td>3/33</td>\n",
       "      <td>23.27</td>\n",
       "      <td>8.39</td>\n",
       "      <td>16.63</td>\n",
       "      <td>0.0</td>\n",
       "      <td>0.0</td>\n",
       "    </tr>\n",
       "    <tr>\n",
       "      <th>4</th>\n",
       "      <td>Yuzvendra Chahal</td>\n",
       "      <td>5.0</td>\n",
       "      <td>15.0</td>\n",
       "      <td>15.0</td>\n",
       "      <td>57.1</td>\n",
       "      <td>405.0</td>\n",
       "      <td>21.0</td>\n",
       "      <td>3/18</td>\n",
       "      <td>19.28</td>\n",
       "      <td>7.08</td>\n",
       "      <td>16.33</td>\n",
       "      <td>0.0</td>\n",
       "      <td>0.0</td>\n",
       "    </tr>\n",
       "  </tbody>\n",
       "</table>\n",
       "</div>"
      ],
      "text/plain": [
       "             PLAYER  POS   Mat  Inns    Ov   Runs  Wkts    BBI    Avg  Econ  \\\n",
       "0     Kagiso Rabada  1.0  17.0  17.0  65.4  548.0  30.0   4/24  18.26  8.34   \n",
       "1    Jasprit Bumrah  2.0  15.0  15.0  60.0  404.0  27.0   4/14  14.96  6.73   \n",
       "2       Trent Boult  3.0  15.0  15.0  57.2  457.0  25.0  4/18   18.28  7.97   \n",
       "3     Anrich Nortje  4.0  16.0  16.0  61.0  512.0  22.0  3/33   23.27  8.39   \n",
       "4  Yuzvendra Chahal  5.0  15.0  15.0  57.1  405.0  21.0   3/18  19.28  7.08   \n",
       "\n",
       "      SR   4w   5w  \n",
       "0  13.13  2.0  0.0  \n",
       "1  13.33  2.0  0.0  \n",
       "2  13.76  1.0  0.0  \n",
       "3  16.63  0.0  0.0  \n",
       "4  16.33  0.0  0.0  "
      ]
     },
     "execution_count": 66,
     "metadata": {},
     "output_type": "execute_result"
    }
   ],
   "source": [
    "# Merging two dataframe:\n",
    "f_d1 = pd.merge(d11,d12,left_index = True, right_index = True)\n",
    "f_d1.head()"
   ]
  },
  {
   "cell_type": "code",
   "execution_count": 67,
   "metadata": {},
   "outputs": [
    {
     "name": "stdout",
     "output_type": "stream",
     "text": [
      "Glenn Maxwell       0.010204\n",
      "Murugan Ashwin      0.010204\n",
      "Deepak Chahar       0.010204\n",
      "Harshal Patel       0.010204\n",
      "Sheldon Cottrell    0.010204\n",
      "                      ...   \n",
      "Jason Holder        0.010204\n",
      "Monu Kumar          0.010204\n",
      "Prasidh Krishna     0.010204\n",
      "Arshdeep Singh      0.010204\n",
      "Shreyas Gopal       0.010204\n",
      "Name: PLAYER, Length: 98, dtype: float64\n",
      "98.0    0.010204\n",
      "25.0    0.010204\n",
      "27.0    0.010204\n",
      "28.0    0.010204\n",
      "29.0    0.010204\n",
      "          ...   \n",
      "68.0    0.010204\n",
      "69.0    0.010204\n",
      "70.0    0.010204\n",
      "71.0    0.010204\n",
      "1.0     0.010204\n",
      "Name: POS, Length: 98, dtype: float64\n",
      "1.0     0.132653\n",
      "14.0    0.102041\n",
      "3.0     0.091837\n",
      "7.0     0.091837\n",
      "15.0    0.071429\n",
      "5.0     0.071429\n",
      "2.0     0.061224\n",
      "16.0    0.061224\n",
      "10.0    0.061224\n",
      "9.0     0.051020\n",
      "8.0     0.040816\n",
      "6.0     0.040816\n",
      "13.0    0.040816\n",
      "12.0    0.030612\n",
      "4.0     0.020408\n",
      "17.0    0.020408\n",
      "11.0    0.010204\n",
      "Name: Mat, dtype: float64\n",
      "1.0     0.173469\n",
      "3.0     0.102041\n",
      "2.0     0.081633\n",
      "5.0     0.081633\n",
      "7.0     0.081633\n",
      "14.0    0.071429\n",
      "15.0    0.071429\n",
      "6.0     0.061224\n",
      "9.0     0.061224\n",
      "13.0    0.061224\n",
      "10.0    0.040816\n",
      "16.0    0.040816\n",
      "4.0     0.030612\n",
      "8.0     0.020408\n",
      "11.0    0.010204\n",
      "17.0    0.010204\n",
      "Name: Inns, dtype: float64\n",
      "4.0     0.071429\n",
      "7.0     0.040816\n",
      "52.0    0.040816\n",
      "8.0     0.040816\n",
      "2.0     0.040816\n",
      "          ...   \n",
      "1.0     0.010204\n",
      "2.5     0.010204\n",
      "0.5     0.010204\n",
      "5.0     0.010204\n",
      "60.0    0.010204\n",
      "Name: Ov, Length: 62, dtype: float64\n",
      "64.0     0.020408\n",
      "344.0    0.020408\n",
      "42.0     0.020408\n",
      "72.0     0.020408\n",
      "23.0     0.020408\n",
      "           ...   \n",
      "192.0    0.010204\n",
      "208.0    0.010204\n",
      "44.0     0.010204\n",
      "53.0     0.010204\n",
      "548.0    0.010204\n",
      "Name: Runs, Length: 89, dtype: float64\n",
      "0.0     0.204082\n",
      "1.0     0.112245\n",
      "2.0     0.081633\n",
      "6.0     0.081633\n",
      "3.0     0.061224\n",
      "9.0     0.061224\n",
      "4.0     0.051020\n",
      "5.0     0.051020\n",
      "10.0    0.040816\n",
      "20.0    0.030612\n",
      "13.0    0.030612\n",
      "12.0    0.030612\n",
      "11.0    0.030612\n",
      "8.0     0.030612\n",
      "14.0    0.020408\n",
      "15.0    0.010204\n",
      "16.0    0.010204\n",
      "17.0    0.010204\n",
      "21.0    0.010204\n",
      "22.0    0.010204\n",
      "25.0    0.010204\n",
      "27.0    0.010204\n",
      "30.0    0.010204\n",
      "Name: Wkts, dtype: float64\n",
      "2/25     0.030612\n",
      "2/28     0.020408\n",
      "0/24     0.020408\n",
      "0/22     0.020408\n",
      "2/29     0.020408\n",
      "           ...   \n",
      "2/19     0.010204\n",
      "3/26     0.010204\n",
      "1/17     0.010204\n",
      "3/17     0.010204\n",
      "2/17     0.010204\n",
      "Name: BBI, Length: 87, dtype: float64\n",
      "-        0.204082\n",
      "33       0.030612\n",
      "64       0.020408\n",
      "18.25    0.020408\n",
      "46       0.020408\n",
      "           ...   \n",
      "63.16    0.010204\n",
      "21.45    0.010204\n",
      "69.33    0.010204\n",
      "56.33    0.010204\n",
      "46.2     0.010204\n",
      "Name: Avg, Length: 74, dtype: float64\n",
      "9.00     0.030612\n",
      "7.46     0.020408\n",
      "10.50    0.020408\n",
      "8.57     0.020408\n",
      "7.08     0.020408\n",
      "           ...   \n",
      "8.09     0.010204\n",
      "8.04     0.010204\n",
      "7.61     0.010204\n",
      "6.84     0.010204\n",
      "8.50     0.010204\n",
      "Name: Econ, Length: 85, dtype: float64\n",
      "-        0.204082\n",
      "21       0.040816\n",
      "30       0.040816\n",
      "24       0.030612\n",
      "42       0.030612\n",
      "           ...   \n",
      "13.33    0.010204\n",
      "48       0.010204\n",
      "25.44    0.010204\n",
      "19.2     0.010204\n",
      "45.6     0.010204\n",
      "Name: SR, Length: 61, dtype: float64\n",
      "0.0    0.948980\n",
      "1.0    0.030612\n",
      "2.0    0.020408\n",
      "Name: 4w, dtype: float64\n",
      "0.0    0.989796\n",
      "1.0    0.010204\n",
      "Name: 5w, dtype: float64\n"
     ]
    }
   ],
   "source": [
    "# To check with value counts:\n",
    "for i in f_d1.columns:\n",
    "    print(f_d1[i].value_counts(normalize = True))"
   ]
  },
  {
   "cell_type": "code",
   "execution_count": 68,
   "metadata": {},
   "outputs": [
    {
     "data": {
      "text/plain": [
       "PLAYER     object\n",
       "POS       float64\n",
       "Mat       float64\n",
       "Inns      float64\n",
       "Ov        float64\n",
       "Runs      float64\n",
       "Wkts      float64\n",
       "BBI        object\n",
       "Avg        object\n",
       "Econ      float64\n",
       "SR         object\n",
       "4w        float64\n",
       "5w        float64\n",
       "dtype: object"
      ]
     },
     "execution_count": 68,
     "metadata": {},
     "output_type": "execute_result"
    }
   ],
   "source": [
    "f_d1.dtypes"
   ]
  },
  {
   "cell_type": "code",
   "execution_count": 69,
   "metadata": {},
   "outputs": [
    {
     "data": {
      "text/plain": [
       "array([0., 1.])"
      ]
     },
     "execution_count": 69,
     "metadata": {},
     "output_type": "execute_result"
    }
   ],
   "source": [
    "f_d1['5w'].unique()"
   ]
  },
  {
   "cell_type": "code",
   "execution_count": 70,
   "metadata": {},
   "outputs": [
    {
     "data": {
      "text/plain": [
       "array([2., 1., 0.])"
      ]
     },
     "execution_count": 70,
     "metadata": {},
     "output_type": "execute_result"
    }
   ],
   "source": [
    "f_d1['4w'].unique()"
   ]
  },
  {
   "cell_type": "code",
   "execution_count": 71,
   "metadata": {},
   "outputs": [
    {
     "data": {
      "text/plain": [
       "array([13.13, 13.33, 13.76, 16.63, 16.33, 19.2, 16.7, 16.1, 18.35, 23.56,\n",
       "       21.2, 22.28, 12, 23.53, 19.38, 13.69, 25.5, 26, 17.27, 14.81,\n",
       "       19.36, 27.6, 18.9, 19.4, 30, 34, 17.33, 16.55, 25.44, 21, 10.66,\n",
       "       37.5, 19.25, 21.75, 19.83, 50.16, 45.66, 36.33, 20, 18, 31.2, 45.6,\n",
       "       26.4, 22.8, 19.75, 13.5, 31.5, 26.25, 34.5, 28.33, 42, 33, 45, 51,\n",
       "       60, 66, 72, 48, 24, 70, '-'], dtype=object)"
      ]
     },
     "execution_count": 71,
     "metadata": {},
     "output_type": "execute_result"
    }
   ],
   "source": [
    "f_d1['SR'].unique() # '-' impute"
   ]
  },
  {
   "cell_type": "code",
   "execution_count": 72,
   "metadata": {},
   "outputs": [],
   "source": [
    "f_d1['SR'] = f_d1['SR'].replace({'-':np.nan})"
   ]
  },
  {
   "cell_type": "code",
   "execution_count": 73,
   "metadata": {},
   "outputs": [
    {
     "data": {
      "text/plain": [
       "array([13.13, 13.33, 13.76, 16.63, 16.33, 19.2 , 16.7 , 16.1 , 18.35,\n",
       "       23.56, 21.2 , 22.28, 12.  , 23.53, 19.38, 13.69, 25.5 , 26.  ,\n",
       "       17.27, 14.81, 19.36, 27.6 , 18.9 , 19.4 , 30.  , 34.  , 17.33,\n",
       "       16.55, 25.44, 21.  , 10.66, 37.5 , 19.25, 21.75, 19.83, 50.16,\n",
       "       45.66, 36.33, 20.  , 18.  , 31.2 , 45.6 , 26.4 , 22.8 , 19.75,\n",
       "       13.5 , 31.5 , 26.25, 34.5 , 28.33, 42.  , 33.  , 45.  , 51.  ,\n",
       "       60.  , 66.  , 72.  , 48.  , 24.  , 70.  ,   nan])"
      ]
     },
     "execution_count": 73,
     "metadata": {},
     "output_type": "execute_result"
    }
   ],
   "source": [
    "f_d1['SR'].unique()"
   ]
  },
  {
   "cell_type": "code",
   "execution_count": 74,
   "metadata": {},
   "outputs": [
    {
     "data": {
      "text/plain": [
       "0     13.13\n",
       "1     13.33\n",
       "2     13.76\n",
       "3     16.63\n",
       "4     16.33\n",
       "      ...  \n",
       "93     0.00\n",
       "94     0.00\n",
       "95     0.00\n",
       "96     0.00\n",
       "97     0.00\n",
       "Name: SR, Length: 98, dtype: float64"
      ]
     },
     "execution_count": 74,
     "metadata": {},
     "output_type": "execute_result"
    }
   ],
   "source": [
    "# For 20 person wikcet is zero. if we are imputing null values it will be infinity. \n",
    "\n",
    "# so just replace it with zero.\n",
    "f_d1['SR'] = f_d1['SR'].replace({np.nan : 0})\n",
    "f_d1['SR']"
   ]
  },
  {
   "cell_type": "code",
   "execution_count": 75,
   "metadata": {},
   "outputs": [
    {
     "data": {
      "text/plain": [
       "array([ 8.34,  6.73,  7.97,  8.39,  7.08,  5.37,  6.55,  8.57,  6.84,\n",
       "        8.02,  8.16,  7.19,  8.32,  7.66,  8.19,  9.53,  7.37,  7.61,\n",
       "        7.86,  6.63,  8.68,  9.01,  7.46,  8.5 ,  8.54,  6.41,  8.15,\n",
       "        8.77,  9.61,  9.65, 10.43,  5.96,  9.42,  9.72,  7.57,  8.29,\n",
       "        8.75,  8.8 ,  9.09,  7.92,  7.94,  8.09,  8.88,  6.22,  8.11,\n",
       "        9.04,  9.37,  9.91,  6.98,  7.2 ,  8.04,  8.93, 11.29, 11.44,\n",
       "        7.33,  8.36,  9.1 ,  9.86, 10.26, 11.7 , 16.  ,  6.14,  6.4 ,\n",
       "        6.9 ,  8.4 , 10.5 , 11.25, 11.4 , 11.5 , 12.5 , 13.71,  5.75,\n",
       "        6.  ,  8.47,  8.66,  9.  ,  9.5 , 10.  , 10.25, 10.37, 11.33,\n",
       "       11.75, 11.85, 12.  , 13.5 ])"
      ]
     },
     "execution_count": 75,
     "metadata": {},
     "output_type": "execute_result"
    }
   ],
   "source": [
    "f_d1['Econ'].unique()"
   ]
  },
  {
   "cell_type": "code",
   "execution_count": 76,
   "metadata": {},
   "outputs": [
    {
     "data": {
      "text/plain": [
       "array([18.26, 14.96, 18.28, 23.27, 19.28, 17.2, 18.25, 23, 20.94, 31.5,\n",
       "       28.86, 26.71, 16.64, 30.07, 26.46, 21.76, 31.33, 33, 34.08, 19.09,\n",
       "       21.45, 29.09, 32.6, 23.5, 27.5, 42.7, 36.33, 23.55, 24.22, 40.77,\n",
       "       33.77, 18.55, 37.25, 30.25, 35.25, 24.66, 63.33, 63.16, 30, 53,\n",
       "       29.33, 31.83, 29.16, 41.2, 60.4, 35.6, 46.2, 20.5, 47.5, 41, 57,\n",
       "       24, 56.33, 44.66, 64, 69.33, 22, 26.5, 46, 45.5, 74, 77, 99.5, 32,\n",
       "       43, 76, 92, 42, 84, 45, 133, 50, 96, '-'], dtype=object)"
      ]
     },
     "execution_count": 76,
     "metadata": {},
     "output_type": "execute_result"
    }
   ],
   "source": [
    "f_d1['Avg'].unique()  # '-' impute"
   ]
  },
  {
   "cell_type": "code",
   "execution_count": 77,
   "metadata": {},
   "outputs": [
    {
     "data": {
      "text/plain": [
       "array([ 18.26,  14.96,  18.28,  23.27,  19.28,  17.2 ,  18.25,  23.  ,\n",
       "        20.94,  31.5 ,  28.86,  26.71,  16.64,  30.07,  26.46,  21.76,\n",
       "        31.33,  33.  ,  34.08,  19.09,  21.45,  29.09,  32.6 ,  23.5 ,\n",
       "        27.5 ,  42.7 ,  36.33,  23.55,  24.22,  40.77,  33.77,  18.55,\n",
       "        37.25,  30.25,  35.25,  24.66,  63.33,  63.16,  30.  ,  53.  ,\n",
       "        29.33,  31.83,  29.16,  41.2 ,  60.4 ,  35.6 ,  46.2 ,  20.5 ,\n",
       "        47.5 ,  41.  ,  57.  ,  24.  ,  56.33,  44.66,  64.  ,  69.33,\n",
       "        22.  ,  26.5 ,  46.  ,  45.5 ,  74.  ,  77.  ,  99.5 ,  32.  ,\n",
       "        43.  ,  76.  ,  92.  ,  42.  ,  84.  ,  45.  , 133.  ,  50.  ,\n",
       "        96.  ,    nan])"
      ]
     },
     "execution_count": 77,
     "metadata": {},
     "output_type": "execute_result"
    }
   ],
   "source": [
    "f_d1['Avg'] = f_d1['Avg'].replace({'-': np.nan})\n",
    "f_d1['Avg'].unique()"
   ]
  },
  {
   "cell_type": "code",
   "execution_count": 78,
   "metadata": {},
   "outputs": [
    {
     "data": {
      "text/plain": [
       "array([ 18.26,  14.96,  18.28,  23.27,  19.28,  17.2 ,  18.25,  23.  ,\n",
       "        20.94,  31.5 ,  28.86,  26.71,  16.64,  30.07,  26.46,  21.76,\n",
       "        31.33,  33.  ,  34.08,  19.09,  21.45,  29.09,  32.6 ,  23.5 ,\n",
       "        27.5 ,  42.7 ,  36.33,  23.55,  24.22,  40.77,  33.77,  18.55,\n",
       "        37.25,  30.25,  35.25,  24.66,  63.33,  63.16,  30.  ,  53.  ,\n",
       "        29.33,  31.83,  29.16,  41.2 ,  60.4 ,  35.6 ,  46.2 ,  20.5 ,\n",
       "        47.5 ,  41.  ,  57.  ,  24.  ,  56.33,  44.66,  64.  ,  69.33,\n",
       "        22.  ,  26.5 ,  46.  ,  45.5 ,  74.  ,  77.  ,  99.5 ,  32.  ,\n",
       "        43.  ,  76.  ,  92.  ,  42.  ,  84.  ,  45.  , 133.  ,  50.  ,\n",
       "        96.  ,    inf])"
      ]
     },
     "execution_count": 78,
     "metadata": {},
     "output_type": "execute_result"
    }
   ],
   "source": [
    "# to fillna in avg column:\n",
    "f_d1['Avg'] = f_d1['Avg'].fillna(f_d1['Runs']/f_d1['Wkts']).astype(float)\n",
    "f_d1['Avg'].unique()"
   ]
  },
  {
   "cell_type": "code",
   "execution_count": 79,
   "metadata": {},
   "outputs": [
    {
     "data": {
      "text/plain": [
       "array([ 18.26,  14.96,  18.28,  23.27,  19.28,  17.2 ,  18.25,  23.  ,\n",
       "        20.94,  31.5 ,  28.86,  26.71,  16.64,  30.07,  26.46,  21.76,\n",
       "        31.33,  33.  ,  34.08,  19.09,  21.45,  29.09,  32.6 ,  23.5 ,\n",
       "        27.5 ,  42.7 ,  36.33,  23.55,  24.22,  40.77,  33.77,  18.55,\n",
       "        37.25,  30.25,  35.25,  24.66,  63.33,  63.16,  30.  ,  53.  ,\n",
       "        29.33,  31.83,  29.16,  41.2 ,  60.4 ,  35.6 ,  46.2 ,  20.5 ,\n",
       "        47.5 ,  41.  ,  57.  ,  24.  ,  56.33,  44.66,  64.  ,  69.33,\n",
       "        22.  ,  26.5 ,  46.  ,  45.5 ,  74.  ,  77.  ,  99.5 ,  32.  ,\n",
       "        43.  ,  76.  ,  92.  ,  42.  ,  84.  ,  45.  , 133.  ,  50.  ,\n",
       "        96.  ,   0.  ])"
      ]
     },
     "execution_count": 79,
     "metadata": {},
     "output_type": "execute_result"
    }
   ],
   "source": [
    "f_d1['Avg'] = f_d1['Avg'].replace({np.inf:0})\n",
    "f_d1['Avg'].unique()\n",
    "\n",
    "# For 20 person wikcet is zero. if we are imputing null values it will be infinity. \n",
    "\n",
    "# so just replace it with zero."
   ]
  },
  {
   "cell_type": "code",
   "execution_count": 80,
   "metadata": {},
   "outputs": [
    {
     "data": {
      "text/plain": [
       "array(['4/24', '4/14', '4/18 ', '3/33 ', '3/18', '3/7', '3/19', '3/15',\n",
       "       '5/20', '2/24 ', '2/18', '3/34', '3/25 ', '3/29 ', '3/19 ', '3/26',\n",
       "       '2/18 ', '4/34', '4/26', '3/8', '2/19 ', '3/25', '3/21 ', '2/28',\n",
       "       '2/28 ', '2/15', '3/23', '2/36', '3/17 ', '3/38', '2/16', '2/24',\n",
       "       '2/41', '2/26', '2/25', '3/37', '2/42', '2/17 ', '2/33', '2/29 ',\n",
       "       '2/19', '2/13 ', '1/11 ', '1/5', '3/29', '2/32', '2/35', '1/10',\n",
       "       '2/34', '2/37 ', '1/37', '1/23', '1/12', '1/15 ', '1/17', '2/32 ',\n",
       "       '1/39', '2/64 ', '1/25 ', '1/19', '1/24', '1/20 ', '1/21', '1/45',\n",
       "       '1/45 ', '1/33', '1/46', '1/50', '1/41 ', '0/23', '0/5', '0/22',\n",
       "       '0/24', '0/26', '0/6', '0/9', '0/14', '0/30', '0/20', '0/41',\n",
       "       '0/39', '0/42', '0/34', '0/7', '0/35', '0/2', '0/13'], dtype=object)"
      ]
     },
     "execution_count": 80,
     "metadata": {},
     "output_type": "execute_result"
    }
   ],
   "source": [
    "f_d1['BBI'].unique()"
   ]
  },
  {
   "cell_type": "code",
   "execution_count": 81,
   "metadata": {},
   "outputs": [],
   "source": [
    "val = f_d1['BBI'].str.split('/')\n",
    "\n",
    "lst = []\n",
    "for i in val:\n",
    "    lst.append(int(i[0])/int(i[1]))\n",
    "    \n",
    "f_d1['BBI'] = lst"
   ]
  },
  {
   "cell_type": "code",
   "execution_count": 82,
   "metadata": {},
   "outputs": [
    {
     "data": {
      "text/plain": [
       "array([30., 27., 25., 22., 21., 20., 17., 16., 15., 14., 13., 12., 11.,\n",
       "       10.,  9.,  8.,  6.,  5.,  4.,  3.,  2.,  1.,  0.])"
      ]
     },
     "execution_count": 82,
     "metadata": {},
     "output_type": "execute_result"
    }
   ],
   "source": [
    "f_d1['Wkts'].unique()"
   ]
  },
  {
   "cell_type": "code",
   "execution_count": 83,
   "metadata": {},
   "outputs": [],
   "source": [
    "f_d1['Runs'] = f_d1['Runs'].astype(int)"
   ]
  },
  {
   "cell_type": "code",
   "execution_count": 84,
   "metadata": {},
   "outputs": [
    {
     "data": {
      "text/plain": [
       "array([65.4, 60. , 57.2, 61. , 57.1, 64. , 55.4, 53.4, 52. , 62.5, 53. ,\n",
       "       28. , 51. , 42. , 29.4, 31.4, 27.1, 35.3, 46. , 31.3, 32.2, 50. ,\n",
       "       26. , 24.5, 38.1, 16. , 25.4, 29. , 19.5, 50.1, 45.4, 21. , 36.2,\n",
       "       20. , 18. , 38. , 22. , 19. , 13.1,  9. , 17.3, 23. , 14.1, 10. ,\n",
       "       15. , 17. , 18.1,  6. ,  7. , 11. ,  4. , 12. ,  5. ,  8. , 11.4,\n",
       "        0.5,  3. ,  2.5,  0.4,  1. ,  2. ,  0.1])"
      ]
     },
     "execution_count": 84,
     "metadata": {},
     "output_type": "execute_result"
    }
   ],
   "source": [
    "f_d1['Ov'].unique()"
   ]
  },
  {
   "cell_type": "code",
   "execution_count": 85,
   "metadata": {},
   "outputs": [
    {
     "data": {
      "text/plain": [
       "array([17., 15., 16., 14., 13.,  7.,  9., 10.,  8.,  4.,  5.,  6., 11.,\n",
       "        3.,  2.,  1.])"
      ]
     },
     "execution_count": 85,
     "metadata": {},
     "output_type": "execute_result"
    }
   ],
   "source": [
    "f_d1['Inns'].unique()"
   ]
  },
  {
   "cell_type": "code",
   "execution_count": 86,
   "metadata": {},
   "outputs": [
    {
     "data": {
      "text/plain": [
       "array([17., 15., 16., 14., 13.,  7.,  9., 10.,  8.,  4.,  5.,  6., 11.,\n",
       "        3.,  2.,  1., 12.])"
      ]
     },
     "execution_count": 86,
     "metadata": {},
     "output_type": "execute_result"
    }
   ],
   "source": [
    "f_d1['Mat'].unique()"
   ]
  },
  {
   "cell_type": "code",
   "execution_count": 87,
   "metadata": {},
   "outputs": [
    {
     "data": {
      "text/plain": [
       "array([ 1.,  2.,  3.,  4.,  5.,  6.,  7.,  8.,  9., 10., 11., 12., 13.,\n",
       "       14., 15., 16., 17., 18., 19., 20., 21., 22., 23., 24., 25., 26.,\n",
       "       27., 28., 29., 30., 31., 32., 33., 34., 35., 36., 37., 38., 39.,\n",
       "       40., 41., 42., 43., 44., 45., 46., 47., 48., 49., 50., 51., 52.,\n",
       "       53., 54., 55., 56., 57., 58., 59., 60., 61., 62., 63., 64., 65.,\n",
       "       66., 67., 68., 69., 70., 71., 72., 73., 74., 75., 76., 77., 78.,\n",
       "       79., 80., 81., 82., 83., 84., 85., 86., 87., 88., 89., 90., 91.,\n",
       "       92., 93., 94., 95., 96., 97., 98.])"
      ]
     },
     "execution_count": 87,
     "metadata": {},
     "output_type": "execute_result"
    }
   ],
   "source": [
    "f_d1['POS'].unique()"
   ]
  },
  {
   "cell_type": "code",
   "execution_count": 88,
   "metadata": {},
   "outputs": [
    {
     "data": {
      "text/plain": [
       "array(['Kagiso Rabada', 'Jasprit\\xa0Bumrah', 'Trent\\xa0Boult',\n",
       "       'Anrich\\xa0Nortje', 'Yuzvendra\\xa0Chahal', 'Rashid\\xa0Khan',\n",
       "       'Jofra\\xa0Archer', 'Mohammad\\xa0Shami', 'Varun\\xa0Chakravarthy',\n",
       "       'T\\xa0Natarajan', 'Rahul\\xa0Chahar', 'Sandeep\\xa0Sharma',\n",
       "       'Jason\\xa0Holder', 'Ravichandran\\xa0Ashwin', 'Sam\\xa0Curran',\n",
       "       'Marcus\\xa0Stoinis', 'Ravi\\xa0Bishnoi', 'Deepak\\xa0Chahar',\n",
       "       'Pat\\xa0Cummins', 'Chris\\xa0Morris', 'Mohammed\\xa0Siraj',\n",
       "       'James\\xa0Pattinson', 'Rahul\\xa0Tewatia', 'Murugan\\xa0Ashwin',\n",
       "       'Shardul\\xa0Thakur', 'Shreyas\\xa0Gopal', 'Axar\\xa0Patel',\n",
       "       'Shivam\\xa0Mavi', 'Arshdeep\\xa0Singh', 'Kartik\\xa0Tyagi',\n",
       "       'Chris\\xa0Jordan', 'Lungi\\xa0Ngidi', 'Washington\\xa0Sundar',\n",
       "       'Khaleel\\xa0Ahmed', 'Isuru\\xa0Udana', 'Lockie\\xa0Ferguson',\n",
       "       'Krunal\\xa0Pandya', 'Navdeep\\xa0Saini', 'Dwayne\\xa0Bravo',\n",
       "       'Ravindra\\xa0Jadeja', 'Sheldon\\xa0Cottrell', 'Piyush\\xa0Chawla',\n",
       "       'Andre\\xa0Russell', 'Nathan\\xa0Coulter-Nile', 'Sunil\\xa0Narine',\n",
       "       'Shahbaz\\xa0Nadeem', 'Karn\\xa0Sharma', 'Kamlesh\\xa0Nagarkoti',\n",
       "       'Vijay\\xa0Shankar', 'Shivam\\xa0Dube', 'Kieron\\xa0Pollard',\n",
       "       'Prasidh\\xa0Krishna', 'Jaydev\\xa0Unadkat', 'Bhuvneshwar\\xa0Kumar',\n",
       "       'Amit\\xa0Mishra', 'Glenn\\xa0Maxwell', 'Harshal\\xa0Patel',\n",
       "       'Tushar\\xa0Deshpande', 'Tom\\xa0Curran', 'Shahbaz\\xa0Ahmed',\n",
       "       'Mitchell\\xa0Santner', 'Adam\\xa0Zampa', 'Abhishek\\xa0Sharma',\n",
       "       'Jimmy\\xa0Neesham', 'Ben\\xa0Stokes', 'Ankit\\xa0Rajpoot',\n",
       "       'Siddarth\\xa0Kaul', 'Jayant\\xa0Yadav', 'Josh\\xa0Hazlewood',\n",
       "       'Imran\\xa0Tahir', 'Kuldeep\\xa0Yadav', 'Moeen\\xa0Ali',\n",
       "       'Krishnappa\\xa0Gowtham', 'Mohit\\xa0Sharma', 'Dale\\xa0Steyn',\n",
       "       'Basil\\xa0Thampi', 'Andrew\\xa0Tye', 'Abdul\\xa0Samad',\n",
       "       'Mohammad\\xa0Nabi', 'Chris\\xa0Gayle', 'Dhawal\\xa0Kulkarni',\n",
       "       'Chris\\xa0Green', 'Ishant\\xa0Sharma', 'Mitchell\\xa0Marsh',\n",
       "       'Deepak\\xa0Hooda', 'Pravin\\xa0Dubey', 'Daniel\\xa0Sams',\n",
       "       'Monu\\xa0Kumar', 'Harpreet\\xa0Brar', 'Mujeeb\\xa0Ur Rahman',\n",
       "       'Avesh\\xa0Khan', 'Sandeep\\xa0Warrier', 'Nitish\\xa0Rana',\n",
       "       'Varun\\xa0Aaron', 'Umesh\\xa0Yadav', 'Kane\\xa0Williamson',\n",
       "       'David\\xa0Warner', 'Riyan\\xa0Parag'], dtype=object)"
      ]
     },
     "execution_count": 88,
     "metadata": {},
     "output_type": "execute_result"
    }
   ],
   "source": [
    "f_d1['PLAYER'].unique()"
   ]
  },
  {
   "cell_type": "code",
   "execution_count": 89,
   "metadata": {},
   "outputs": [],
   "source": [
    "f_d1['PLAYER'] = f_d1['PLAYER'].replace('\\xa0',' ')"
   ]
  },
  {
   "cell_type": "code",
   "execution_count": 90,
   "metadata": {},
   "outputs": [
    {
     "data": {
      "text/plain": [
       "PLAYER     object\n",
       "POS       float64\n",
       "Mat       float64\n",
       "Inns      float64\n",
       "Ov        float64\n",
       "Runs        int32\n",
       "Wkts      float64\n",
       "BBI       float64\n",
       "Avg       float64\n",
       "Econ      float64\n",
       "SR        float64\n",
       "4w        float64\n",
       "5w        float64\n",
       "dtype: object"
      ]
     },
     "execution_count": 90,
     "metadata": {},
     "output_type": "execute_result"
    }
   ],
   "source": [
    "f_d1.dtypes"
   ]
  },
  {
   "cell_type": "code",
   "execution_count": 91,
   "metadata": {},
   "outputs": [
    {
     "data": {
      "text/html": [
       "<div>\n",
       "<style scoped>\n",
       "    .dataframe tbody tr th:only-of-type {\n",
       "        vertical-align: middle;\n",
       "    }\n",
       "\n",
       "    .dataframe tbody tr th {\n",
       "        vertical-align: top;\n",
       "    }\n",
       "\n",
       "    .dataframe thead th {\n",
       "        text-align: right;\n",
       "    }\n",
       "</style>\n",
       "<table border=\"1\" class=\"dataframe\">\n",
       "  <thead>\n",
       "    <tr style=\"text-align: right;\">\n",
       "      <th></th>\n",
       "      <th>PLAYER</th>\n",
       "      <th>POS</th>\n",
       "      <th>Mat</th>\n",
       "      <th>Inns</th>\n",
       "      <th>Ov</th>\n",
       "      <th>Runs</th>\n",
       "      <th>Wkts</th>\n",
       "      <th>BBI</th>\n",
       "      <th>Avg</th>\n",
       "      <th>Econ</th>\n",
       "      <th>SR</th>\n",
       "      <th>4w</th>\n",
       "      <th>5w</th>\n",
       "    </tr>\n",
       "  </thead>\n",
       "  <tbody>\n",
       "    <tr>\n",
       "      <th>0</th>\n",
       "      <td>Kagiso Rabada</td>\n",
       "      <td>1.0</td>\n",
       "      <td>17.0</td>\n",
       "      <td>17.0</td>\n",
       "      <td>65.4</td>\n",
       "      <td>548</td>\n",
       "      <td>30.0</td>\n",
       "      <td>0.166667</td>\n",
       "      <td>18.26</td>\n",
       "      <td>8.34</td>\n",
       "      <td>13.13</td>\n",
       "      <td>2.0</td>\n",
       "      <td>0.0</td>\n",
       "    </tr>\n",
       "    <tr>\n",
       "      <th>1</th>\n",
       "      <td>Jasprit Bumrah</td>\n",
       "      <td>2.0</td>\n",
       "      <td>15.0</td>\n",
       "      <td>15.0</td>\n",
       "      <td>60.0</td>\n",
       "      <td>404</td>\n",
       "      <td>27.0</td>\n",
       "      <td>0.285714</td>\n",
       "      <td>14.96</td>\n",
       "      <td>6.73</td>\n",
       "      <td>13.33</td>\n",
       "      <td>2.0</td>\n",
       "      <td>0.0</td>\n",
       "    </tr>\n",
       "    <tr>\n",
       "      <th>2</th>\n",
       "      <td>Trent Boult</td>\n",
       "      <td>3.0</td>\n",
       "      <td>15.0</td>\n",
       "      <td>15.0</td>\n",
       "      <td>57.2</td>\n",
       "      <td>457</td>\n",
       "      <td>25.0</td>\n",
       "      <td>0.222222</td>\n",
       "      <td>18.28</td>\n",
       "      <td>7.97</td>\n",
       "      <td>13.76</td>\n",
       "      <td>1.0</td>\n",
       "      <td>0.0</td>\n",
       "    </tr>\n",
       "    <tr>\n",
       "      <th>3</th>\n",
       "      <td>Anrich Nortje</td>\n",
       "      <td>4.0</td>\n",
       "      <td>16.0</td>\n",
       "      <td>16.0</td>\n",
       "      <td>61.0</td>\n",
       "      <td>512</td>\n",
       "      <td>22.0</td>\n",
       "      <td>0.090909</td>\n",
       "      <td>23.27</td>\n",
       "      <td>8.39</td>\n",
       "      <td>16.63</td>\n",
       "      <td>0.0</td>\n",
       "      <td>0.0</td>\n",
       "    </tr>\n",
       "    <tr>\n",
       "      <th>4</th>\n",
       "      <td>Yuzvendra Chahal</td>\n",
       "      <td>5.0</td>\n",
       "      <td>15.0</td>\n",
       "      <td>15.0</td>\n",
       "      <td>57.1</td>\n",
       "      <td>405</td>\n",
       "      <td>21.0</td>\n",
       "      <td>0.166667</td>\n",
       "      <td>19.28</td>\n",
       "      <td>7.08</td>\n",
       "      <td>16.33</td>\n",
       "      <td>0.0</td>\n",
       "      <td>0.0</td>\n",
       "    </tr>\n",
       "  </tbody>\n",
       "</table>\n",
       "</div>"
      ],
      "text/plain": [
       "             PLAYER  POS   Mat  Inns    Ov  Runs  Wkts       BBI    Avg  Econ  \\\n",
       "0     Kagiso Rabada  1.0  17.0  17.0  65.4   548  30.0  0.166667  18.26  8.34   \n",
       "1    Jasprit Bumrah  2.0  15.0  15.0  60.0   404  27.0  0.285714  14.96  6.73   \n",
       "2       Trent Boult  3.0  15.0  15.0  57.2   457  25.0  0.222222  18.28  7.97   \n",
       "3     Anrich Nortje  4.0  16.0  16.0  61.0   512  22.0  0.090909  23.27  8.39   \n",
       "4  Yuzvendra Chahal  5.0  15.0  15.0  57.1   405  21.0  0.166667  19.28  7.08   \n",
       "\n",
       "      SR   4w   5w  \n",
       "0  13.13  2.0  0.0  \n",
       "1  13.33  2.0  0.0  \n",
       "2  13.76  1.0  0.0  \n",
       "3  16.63  0.0  0.0  \n",
       "4  16.33  0.0  0.0  "
      ]
     },
     "execution_count": 91,
     "metadata": {},
     "output_type": "execute_result"
    }
   ],
   "source": [
    "f_d1.head()"
   ]
  },
  {
   "cell_type": "markdown",
   "metadata": {},
   "source": [
    "Q1 : Does Stike Rate has effect on Economy of Bowler in IPL 2020."
   ]
  },
  {
   "cell_type": "code",
   "execution_count": null,
   "metadata": {},
   "outputs": [],
   "source": [
    "# Hypothesis:\n",
    "# H0 : Stike Rate has no effect on Economy Rate\n",
    "# Ha : Stike Rate has effect on Economy Rate"
   ]
  },
  {
   "cell_type": "code",
   "execution_count": 149,
   "metadata": {},
   "outputs": [],
   "source": [
    "g1 = f_d1['Econ']\n",
    "g2 = f_d1['SR']"
   ]
  },
  {
   "cell_type": "code",
   "execution_count": 150,
   "metadata": {},
   "outputs": [
    {
     "name": "stdout",
     "output_type": "stream",
     "text": [
      "ShapiroResult(statistic=0.9545033574104309, pvalue=0.0018937678541988134)\n",
      "ShapiroResult(statistic=0.927972137928009, pvalue=4.55102272098884e-05)\n"
     ]
    }
   ],
   "source": [
    "# Test of Normality:\n",
    "print(shapiro(g1))\n",
    "print(shapiro(g2))\n",
    "\n",
    "# both p value < 0.05. Data is skewed"
   ]
  },
  {
   "cell_type": "code",
   "execution_count": 151,
   "metadata": {},
   "outputs": [
    {
     "data": {
      "text/plain": [
       "MannwhitneyuResult(statistic=1998.5, pvalue=8.141577999411782e-13)"
      ]
     },
     "execution_count": 151,
     "metadata": {},
     "output_type": "execute_result"
    }
   ],
   "source": [
    "# Mean Test:\n",
    "mannwhitneyu(g1,g2)"
   ]
  },
  {
   "cell_type": "code",
   "execution_count": 152,
   "metadata": {},
   "outputs": [
    {
     "data": {
      "image/png": "[encoded data removed]",
      "text/plain": [
       "<Figure size 720x720 with 2 Axes>"
      ]
     },
     "metadata": {
      "needs_background": "light"
     },
     "output_type": "display_data"
    }
   ],
   "source": [
    "# Inference:\n",
    "# Stike Rate has effect on Economy of Bowler in IPL 2020.\n",
    "\n",
    "# Posthoc analysis:\n",
    "plt.figure(figsize = (10,10))\n",
    "sns.heatmap(f_d1.corr(),annot = True)\n",
    "plt.show()\n",
    "\n",
    "# There is a slight negative correlation exist between Economy and Stike Rate of Bowler."
   ]
  },
  {
   "cell_type": "markdown",
   "metadata": {},
   "source": [
    "Q2 :  Does Stike Rate has effect on Average of Bowler in IPL 2020."
   ]
  },
  {
   "cell_type": "code",
   "execution_count": null,
   "metadata": {},
   "outputs": [],
   "source": [
    "# Hypothesis:\n",
    "# H0 : Stike Rate has no effect on Average of Bowler\n",
    "# Ha : Stike Rate has effect on Average of Bowler"
   ]
  },
  {
   "cell_type": "code",
   "execution_count": 153,
   "metadata": {},
   "outputs": [],
   "source": [
    "g1 = f_d1['SR']\n",
    "g2 = f_d1['Avg']"
   ]
  },
  {
   "cell_type": "code",
   "execution_count": 154,
   "metadata": {},
   "outputs": [
    {
     "name": "stdout",
     "output_type": "stream",
     "text": [
      "ShapiroResult(statistic=0.927972137928009, pvalue=4.55102272098884e-05)\n",
      "ShapiroResult(statistic=0.9094977974891663, pvalue=4.95103176945122e-06)\n"
     ]
    }
   ],
   "source": [
    "# Test of Normality:\n",
    "print(shapiro(g1))\n",
    "print(shapiro(g2))\n",
    "\n",
    "# p value < 0.05. Data is skewed"
   ]
  },
  {
   "cell_type": "code",
   "execution_count": 155,
   "metadata": {},
   "outputs": [
    {
     "data": {
      "text/plain": [
       "MannwhitneyuResult(statistic=3618.0, pvalue=0.0013794067855936033)"
      ]
     },
     "execution_count": 155,
     "metadata": {},
     "output_type": "execute_result"
    }
   ],
   "source": [
    "# Mean Test:\n",
    "mannwhitneyu(g1,g2)"
   ]
  },
  {
   "cell_type": "code",
   "execution_count": 156,
   "metadata": {},
   "outputs": [
    {
     "data": {
      "image/png": "[encoded data removed]",
      "text/plain": [
       "<Figure size 432x288 with 1 Axes>"
      ]
     },
     "metadata": {
      "needs_background": "light"
     },
     "output_type": "display_data"
    }
   ],
   "source": [
    "# Inference: \n",
    "# p value < 0.05. Therefore Ha holds good. Stike Rate has effect on Average of Bowler in IPL 2020.\n",
    "\n",
    "# Posthoc analysis:\n",
    "\n",
    "sns.regplot(f_d1['SR'],f_d1['Avg'])\n",
    "plt.show()\n",
    "\n",
    "# From the below plot we can conclude that there is linear relation ship exist between Economy and Stike Rate of the bowler in IPL 2020"
   ]
  },
  {
   "cell_type": "markdown",
   "metadata": {},
   "source": [
    "Q3 : Does BBI has effect on Stike Rate of Bowler in IPL 2020."
   ]
  },
  {
   "cell_type": "code",
   "execution_count": null,
   "metadata": {},
   "outputs": [],
   "source": [
    "# Hypothesis:\n",
    "# H0 : BBI has no effect on Stike Rate Bowler\n",
    "# Ha : BBI has effect on Stike Rate of Bowler"
   ]
  },
  {
   "cell_type": "code",
   "execution_count": 157,
   "metadata": {},
   "outputs": [],
   "source": [
    "g1 = f_d1['BBI']\n",
    "g2 = f_d1['SR']"
   ]
  },
  {
   "cell_type": "code",
   "execution_count": 158,
   "metadata": {},
   "outputs": [
    {
     "name": "stdout",
     "output_type": "stream",
     "text": [
      "ShapiroResult(statistic=0.8514345288276672, pvalue=1.7180736833211085e-08)\n",
      "ShapiroResult(statistic=0.927972137928009, pvalue=4.55102272098884e-05)\n"
     ]
    }
   ],
   "source": [
    "# Test of Normality:\n",
    "print(shapiro(g1))\n",
    "print(shapiro(g2))\n",
    "\n",
    "# P value < 0.05. Data is skewed"
   ]
  },
  {
   "cell_type": "code",
   "execution_count": 159,
   "metadata": {},
   "outputs": [
    {
     "data": {
      "text/plain": [
       "MannwhitneyuResult(statistic=1760.0, pvalue=7.197249262456106e-15)"
      ]
     },
     "execution_count": 159,
     "metadata": {},
     "output_type": "execute_result"
    }
   ],
   "source": [
    "# Mean Test:\n",
    "mannwhitneyu(g1,g2)"
   ]
  },
  {
   "cell_type": "code",
   "execution_count": 163,
   "metadata": {},
   "outputs": [],
   "source": [
    "# Inference:\n",
    "# Pvalue < 0.05. Ha holds good. Therefore we can conclude that BBI has effect on Stike Rate of Bowler in IPL 2020."
   ]
  },
  {
   "cell_type": "markdown",
   "metadata": {},
   "source": [
    "Q4 : Average Stike Rate for Bowler in IPL 2020 is greater than 13."
   ]
  },
  {
   "cell_type": "code",
   "execution_count": null,
   "metadata": {},
   "outputs": [],
   "source": [
    "# Hypothesis:\n",
    "# H0 : Mean Stike Rate of Bowlers in IPL 2020 <= 13\n",
    "# Ha : Mean Stike Rate of Bowlers in IPL 2020 > 13"
   ]
  },
  {
   "cell_type": "code",
   "execution_count": 164,
   "metadata": {},
   "outputs": [
    {
     "name": "stdout",
     "output_type": "stream",
     "text": [
      "ShapiroResult(statistic=0.927972137928009, pvalue=4.55102272098884e-05)\n"
     ]
    }
   ],
   "source": [
    "# Test of Normality:\n",
    "print(shapiro(f_d1['SR']))\n",
    "\n",
    "# p value < 0.05. Data is skewed."
   ]
  },
  {
   "cell_type": "code",
   "execution_count": 165,
   "metadata": {},
   "outputs": [
    {
     "data": {
      "text/plain": [
       "WilcoxonResult(statistic=1132.0, pvalue=4.429756916802601e-06)"
      ]
     },
     "execution_count": 165,
     "metadata": {},
     "output_type": "execute_result"
    }
   ],
   "source": [
    "# mean test:\n",
    "wilcoxon(f_d1['SR'] - 13)"
   ]
  },
  {
   "cell_type": "code",
   "execution_count": 166,
   "metadata": {},
   "outputs": [
    {
     "data": {
      "text/plain": [
       "22.14112244897959"
      ]
     },
     "execution_count": 166,
     "metadata": {},
     "output_type": "execute_result"
    }
   ],
   "source": [
    "# Inference:\n",
    "# in the above meant test, p value > 0.05. Therefore Ha holds good. Mean Stike Rate of Bolwer in IPL 2020 is > 13\n",
    "\n",
    "# posthoc analysis:\n",
    "\n",
    "f_d1['SR'].mean()\n",
    "\n",
    "# Mean Stike Rate of Bowler in IPL 2020 is approximately equals to 22."
   ]
  },
  {
   "cell_type": "markdown",
   "metadata": {},
   "source": [
    "Q5 : Average Economy of Bowler in IPL 2020 is greater than 8."
   ]
  },
  {
   "cell_type": "code",
   "execution_count": null,
   "metadata": {},
   "outputs": [],
   "source": [
    "# Hypothesis:\n",
    "# H0 : Mean Economy of Bowler in IPl 2020 <= 8\n",
    "# Ha : Mean Economy of Bowler in IPL 2020 > 8"
   ]
  },
  {
   "cell_type": "code",
   "execution_count": 167,
   "metadata": {},
   "outputs": [
    {
     "data": {
      "text/plain": [
       "ShapiroResult(statistic=0.9545033574104309, pvalue=0.0018937678541988134)"
      ]
     },
     "execution_count": 167,
     "metadata": {},
     "output_type": "execute_result"
    }
   ],
   "source": [
    "# Test of Normality:\n",
    "shapiro(f_d1['Econ'])\n",
    "\n",
    "# p value < 0.05. Data is skewed"
   ]
  },
  {
   "cell_type": "code",
   "execution_count": 168,
   "metadata": {},
   "outputs": [
    {
     "data": {
      "text/plain": [
       "WilcoxonResult(statistic=1314.5, pvalue=8.251385266692474e-05)"
      ]
     },
     "execution_count": 168,
     "metadata": {},
     "output_type": "execute_result"
    }
   ],
   "source": [
    "# Mean Test:\n",
    "wilcoxon(f_d1['Econ'] - 8)"
   ]
  },
  {
   "cell_type": "code",
   "execution_count": 169,
   "metadata": {},
   "outputs": [
    {
     "data": {
      "text/plain": [
       "8.88122448979592"
      ]
     },
     "execution_count": 169,
     "metadata": {},
     "output_type": "execute_result"
    }
   ],
   "source": [
    "# Inference:\n",
    "# From the above mean test we can infer that p value < 0.05. we can conclude that Mean Economy of Bowler > 8\n",
    "\n",
    "# posthoc analysis:\n",
    "f_d1['Econ'].mean()\n",
    "\n",
    "# Average Economy of Bolwer for IPL 2020 is approximately equals to 9"
   ]
  },
  {
   "cell_type": "markdown",
   "metadata": {},
   "source": [
    "Q6 : Does bowler wickets has effect on BBI in IPL 2020."
   ]
  },
  {
   "cell_type": "code",
   "execution_count": null,
   "metadata": {},
   "outputs": [],
   "source": [
    "# Hypothesis:\n",
    "# H0 : Bowler Wicket has no effect on BBI in IPL 2020\n",
    "# Ha : Bowler Wicket has effect on BBI in IPL 2020"
   ]
  },
  {
   "cell_type": "code",
   "execution_count": 170,
   "metadata": {},
   "outputs": [],
   "source": [
    "g1 = f_d1['Wkts']\n",
    "g2 = f_d1['BBI']"
   ]
  },
  {
   "cell_type": "code",
   "execution_count": 171,
   "metadata": {},
   "outputs": [
    {
     "name": "stdout",
     "output_type": "stream",
     "text": [
      "ShapiroResult(statistic=0.847612202167511, pvalue=1.2453898357023263e-08)\n",
      "ShapiroResult(statistic=0.8514345288276672, pvalue=1.7180736833211085e-08)\n"
     ]
    }
   ],
   "source": [
    "# Test of Normality:\n",
    "print(shapiro(g1))\n",
    "print(shapiro(g2))\n",
    "\n",
    "# p value < 0.05. Data is skewed"
   ]
  },
  {
   "cell_type": "code",
   "execution_count": 172,
   "metadata": {},
   "outputs": [
    {
     "data": {
      "text/plain": [
       "MannwhitneyuResult(statistic=1760.0, pvalue=7.111956080627356e-15)"
      ]
     },
     "execution_count": 172,
     "metadata": {},
     "output_type": "execute_result"
    }
   ],
   "source": [
    "# Mean Test:\n",
    "mannwhitneyu(g1,g2)"
   ]
  },
  {
   "cell_type": "code",
   "execution_count": 173,
   "metadata": {},
   "outputs": [
    {
     "data": {
      "image/png": "[encoded data removed]",
      "text/plain": [
       "<Figure size 720x720 with 2 Axes>"
      ]
     },
     "metadata": {
      "needs_background": "light"
     },
     "output_type": "display_data"
    }
   ],
   "source": [
    "# Inference: pvalue < 0.05. Ha holds good. Therefore Bowler wicket has effect on BBI in IPL 2020.\n",
    "\n",
    "# posthoc analysis:\n",
    "plt.figure(figsize = (10,10))\n",
    "sns.heatmap(f_d1.corr(),annot = True)\n",
    "plt.show()"
   ]
  },
  {
   "cell_type": "code",
   "execution_count": 174,
   "metadata": {},
   "outputs": [
    {
     "data": {
      "image/png": "[encoded data removed]",
      "text/plain": [
       "<Figure size 432x288 with 1 Axes>"
      ]
     },
     "metadata": {
      "needs_background": "light"
     },
     "output_type": "display_data"
    }
   ],
   "source": [
    "sns.regplot(f_d1['Wkts'],f_d1['BBI'])\n",
    "plt.show()"
   ]
  },
  {
   "cell_type": "code",
   "execution_count": null,
   "metadata": {},
   "outputs": [],
   "source": [
    "# From the above two plots we can conclude that Wickets and BBI has a strong relationship with each other in IPL 2020."
   ]
  }
 ],
 "metadata": {
  "kernelspec": {
   "display_name": "Python 3",
   "language": "python",
   "name": "python3"
  },
  "language_info": {
   "codemirror_mode": {
    "name": "ipython",
    "version": 3
   },
   "file_extension": ".py",
   "mimetype": "text/x-python",
   "name": "python",
   "nbconvert_exporter": "python",
   "pygments_lexer": "ipython3",
   "version": "3.8.5"
  }
 },
 "nbformat": 4,
 "nbformat_minor": 4
}
